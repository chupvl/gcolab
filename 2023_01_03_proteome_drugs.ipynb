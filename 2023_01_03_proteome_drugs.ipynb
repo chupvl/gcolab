{
  "nbformat": 4,
  "nbformat_minor": 0,
  "metadata": {
    "colab": {
      "provenance": [],
      "collapsed_sections": [
        "AQuSXrMYuEoB"
      ],
      "authorship_tag": "ABX9TyPREzf5TBPeOnIvqo39npYy",
      "include_colab_link": true
    },
    "kernelspec": {
      "name": "python3",
      "display_name": "Python 3"
    },
    "language_info": {
      "name": "python"
    }
  },
  "cells": [
    {
      "cell_type": "markdown",
      "metadata": {
        "id": "view-in-github",
        "colab_type": "text"
      },
      "source": [
        "<a href=\"https://colab.research.google.com/github/chupvl/gcolab/blob/main/2023_01_03_proteome_drugs.ipynb\" target=\"_parent\"><img src=\"https://colab.research.google.com/assets/colab-badge.svg\" alt=\"Open In Colab\"/></a>"
      ]
    },
    {
      "cell_type": "markdown",
      "source": [
        "# 2023-01-03: Comments on paper \"A proteome-wide atlas of drug mechanism of action\""
      ],
      "metadata": {
        "id": "iOSBKt7it-Et"
      }
    },
    {
      "cell_type": "markdown",
      "source": [
        "## Libs"
      ],
      "metadata": {
        "id": "AQuSXrMYuEoB"
      }
    },
    {
      "cell_type": "code",
      "execution_count": 1,
      "metadata": {
        "id": "sqhQgy-Otv2P"
      },
      "outputs": [],
      "source": [
        "!pip install rdkit-pypi -qqq"
      ]
    },
    {
      "cell_type": "code",
      "source": [
        "import pandas as pd\n",
        "# \n",
        "from rdkit import Chem\n",
        "from rdkit.Chem import PandasTools\n",
        "\n",
        "from rdkit.Chem import Draw\n",
        "from rdkit.Chem import rdDepictor\n",
        "rdDepictor.SetPreferCoordGen(True)\n",
        "from rdkit.Chem.Draw import IPythonConsole\n",
        "from IPython.display import SVG\n",
        "\n",
        "from rdkit.Chem.Fingerprints import FingerprintMols\n",
        "from rdkit import DataStructs\n",
        "\n",
        "def show_df(df):\n",
        "    return HTML(df.to_html(notebook=True))\n",
        "\n",
        "def getMol(smiles):\n",
        "  try:\n",
        "    return Chem.MolFromSmiles(smiles)\n",
        "  except:\n",
        "    return None\n",
        "\n",
        "def getSim(m1, m2):\n",
        "  fp1 = FingerprintMols.FingerprintMol(m1)\n",
        "  fp2 = FingerprintMols.FingerprintMol(m2)\n",
        "  return DataStructs.TanimotoSimilarity(fp1, fp2)\n",
        "\n",
        "def get_mscaffold(mol):\n",
        "  '''\n",
        "  for a given rdkit.Mol return Murcko scaffold and its inchikey\n",
        "  '''\n",
        "  try:\n",
        "    Chem.RemoveStereochemistry(mol)\n",
        "    sk = Chem.Scaffolds.MurckoScaffold.GetScaffoldForMol(mol)\n",
        "    return sk, Chem.inchi.MolToInchiKey(sk)\n",
        "  except:\n",
        "    return None, None\n",
        "#\n"
      ],
      "metadata": {
        "id": "2YBHxl08uQxj"
      },
      "execution_count": 2,
      "outputs": []
    },
    {
      "cell_type": "code",
      "source": [
        "def getDataForComps(lst_names):\n",
        "  smiles = [dfs2[dfs2['Compound Name'].str.contains(i)]['SMILES'].values[0] for i in lst_names]\n",
        "  mols = [getMol(s) for s in smiles]\n",
        "  sims = [getSim(i, mols[0]) for i in mols]\n",
        "  D = {}\n",
        "  D['names'] = lst_names\n",
        "  D['mols'] = mols\n",
        "  D['sims'] = [round(i, 4) for i in sims]\n",
        "  D['prots'] = len(dfs1_mlt[(dfs1_mlt['value_abs'] > 1) & (dfs1_mlt['variable'].str.contains(lst_names[0]))]['Gene Name'].to_list())\n",
        "  return D"
      ],
      "metadata": {
        "id": "dy9rkOv_taZH"
      },
      "execution_count": 3,
      "outputs": []
    },
    {
      "cell_type": "code",
      "source": [
        "def getImage(DataForComps):\n",
        "  legend = [str(i) for i in DataForComps['sims']]\n",
        "  legend = [' '.join(i) for i in list(zip(DataForComps['names'], legend))]\n",
        "  legend[0] = DataForComps['names'][0]\n",
        "  return Draw.MolsToGridImage(DataForComps['mols'], molsPerRow=5, subImgSize=(200,200), legends=legend)"
      ],
      "metadata": {
        "id": "vi1lSwM1yypQ"
      },
      "execution_count": 4,
      "outputs": []
    },
    {
      "cell_type": "code",
      "source": [
        "def getProteins(CompoundName, cutoff=1):\n",
        "  propt_lst = dfs1_mlt[(dfs1_mlt['variable'].str.contains(CompoundName)) & (dfs1_mlt['value_abs'] > cutoff)]['Gene Name'].to_list()\n",
        "  return propt_lst"
      ],
      "metadata": {
        "id": "TE9_DnwRYVjg"
      },
      "execution_count": 5,
      "outputs": []
    },
    {
      "cell_type": "code",
      "source": [
        "def get_ez_stats(df_mlt, cutoff=-0.5):\n",
        "  cmps_vc = df_mlt[df_mlt['value'] <= cutoff]['variable'].value_counts()\n",
        "  cmps_vc = cmps_vc.reset_index()\n",
        "  cmps_vc.columns = ['entity', 'nTProteins']\n",
        "  cmps_vc['Compound Name'] = [i.split('_')[0] for i in cmps_vc['entity']]\n",
        "  cmps_ezstats = cmps_vc.merge(dfs2, on='Compound Name')\n",
        "  return cmps_ezstats"
      ],
      "metadata": {
        "id": "nvBBABBuKJXk"
      },
      "execution_count": 6,
      "outputs": []
    },
    {
      "cell_type": "markdown",
      "source": [
        "## Data"
      ],
      "metadata": {
        "id": "IFQ35gkm1tTi"
      }
    },
    {
      "cell_type": "code",
      "source": [
        "!wget https://static-content.springer.com/esm/art%3A10.1038%2Fs41587-022-01539-0/MediaObjects/41587_2022_1539_MOESM3_ESM.csv"
      ],
      "metadata": {
        "colab": {
          "base_uri": "https://localhost:8080/"
        },
        "id": "CqSMEbdszX_d",
        "outputId": "759a40f0-517d-4c52-8d28-3f5ab969d832"
      },
      "execution_count": 7,
      "outputs": [
        {
          "output_type": "stream",
          "name": "stdout",
          "text": [
            "--2023-01-14 03:39:06--  https://static-content.springer.com/esm/art%3A10.1038%2Fs41587-022-01539-0/MediaObjects/41587_2022_1539_MOESM3_ESM.csv\n",
            "Resolving static-content.springer.com (static-content.springer.com)... 151.101.0.95, 151.101.64.95, 151.101.128.95, ...\n",
            "Connecting to static-content.springer.com (static-content.springer.com)|151.101.0.95|:443... connected.\n",
            "HTTP request sent, awaiting response... 200 OK\n",
            "Length: 43215683 (41M) [text/csv]\n",
            "Saving to: ‘41587_2022_1539_MOESM3_ESM.csv.2’\n",
            "\n",
            "\r          41587_202   0%[                    ]       0  --.-KB/s               \r41587_2022_1539_MOE 100%[===================>]  41.21M  --.-KB/s    in 0.1s    \n",
            "\n",
            "2023-01-14 03:39:06 (289 MB/s) - ‘41587_2022_1539_MOESM3_ESM.csv.2’ saved [43215683/43215683]\n",
            "\n"
          ]
        }
      ]
    },
    {
      "cell_type": "code",
      "source": [
        "# profiles\n",
        "dfs1 = pd.read_csv('41587_2022_1539_MOESM3_ESM.csv', encoding='unicode_escape')\n",
        "# ok, those are compounds with smiles\n",
        "dfs2 = pd.read_excel('https://static-content.springer.com/esm/art%3A10.1038%2Fs41587-022-01539-0/MediaObjects/41587_2022_1539_MOESM4_ESM.xlsx', dtype=str)\n",
        "Chem.PandasTools.AddMoleculeColumnToFrame(dfs2, 'SMILES', 'mol', includeFingerprints=True)"
      ],
      "metadata": {
        "id": "-86YvrJ4uYl_"
      },
      "execution_count": 8,
      "outputs": []
    },
    {
      "cell_type": "code",
      "source": [
        "# checking compound names\n",
        "dfs1_cn = set([ i.split('_')[0] for i in dfs1.columns[2:] ])\n",
        "dfs2_cn = set(dfs2['Compound Name'])\n",
        "dfs1_cn.difference(dfs2_cn)\n",
        "# skipping compound-compound mapping issues for now\n",
        "cn_ovlp = list(dfs1_cn & dfs2_cn)\n",
        "print(f'Number of compounds for analysis: {len(cn_ovlp)}')"
      ],
      "metadata": {
        "colab": {
          "base_uri": "https://localhost:8080/"
        },
        "id": "z4nhSSQDziM5",
        "outputId": "ff74cf55-b03b-4c1c-ff3e-0b23ae731e28"
      },
      "execution_count": 9,
      "outputs": [
        {
          "output_type": "stream",
          "name": "stdout",
          "text": [
            "Number of compounds for analysis: 872\n"
          ]
        }
      ]
    },
    {
      "cell_type": "code",
      "source": [
        "# most of the compounds were screened in 10uM concentration\n",
        "dfs2['Screening Concentration'].value_counts()"
      ],
      "metadata": {
        "colab": {
          "base_uri": "https://localhost:8080/"
        },
        "id": "ovGkCA5pvHvl",
        "outputId": "92199fe4-d9b8-4f44-97d4-0896442a0d5f"
      },
      "execution_count": 10,
      "outputs": [
        {
          "output_type": "execute_result",
          "data": {
            "text/plain": [
              "10uM    847\n",
              "1uM      28\n",
              "Name: Screening Concentration, dtype: int64"
            ]
          },
          "metadata": {},
          "execution_count": 10
        }
      ]
    },
    {
      "cell_type": "markdown",
      "source": [
        "## Proteome fingerprint"
      ],
      "metadata": {
        "id": "ipUFTqX0AVfo"
      }
    },
    {
      "cell_type": "code",
      "source": [
        "# checking if the same gene name is mapped to several UniprotIDs\n",
        "# UniprotID is a unique protein identifier, gene symbol is not\n",
        "nUUID = len(set(dfs1['UniprotID']))\n",
        "nUGN = len(set(dfs1['Gene Name']))\n",
        "print(f'Numer of unique gene names: {nUUID}')\n",
        "print(f'Numer of unique uniprot IDs: {nUGN}')\n",
        "print(f'Total number of entries: {len(dfs1)}')"
      ],
      "metadata": {
        "colab": {
          "base_uri": "https://localhost:8080/"
        },
        "id": "NdGTzRIBAZTx",
        "outputId": "d31db5f5-79de-44a5-bd25-e0d19c8c81c0"
      },
      "execution_count": 11,
      "outputs": [
        {
          "output_type": "stream",
          "name": "stdout",
          "text": [
            "Numer of unique gene names: 9960\n",
            "Numer of unique uniprot IDs: 9715\n",
            "Total number of entries: 9960\n"
          ]
        }
      ]
    },
    {
      "cell_type": "code",
      "source": [
        "# that would be easier to handle\n",
        "dfs1_mlt = pd.melt(dfs1, id_vars=['Gene Name', 'UniprotID'])\n",
        "dfs1_mlt['value_abs'] = dfs1_mlt['value'].abs()\n",
        "dfs1_mlt.head()"
      ],
      "metadata": {
        "colab": {
          "base_uri": "https://localhost:8080/",
          "height": 206
        },
        "id": "Fi2E2NvSC6FC",
        "outputId": "17dc39bf-fc42-46b7-f77c-4df11a6b948e"
      },
      "execution_count": 12,
      "outputs": [
        {
          "output_type": "execute_result",
          "data": {
            "text/plain": [
              "  Gene Name UniprotID         variable  value  value_abs\n",
              "0      AAAS    Q9NRG9  SR 142948_NTSR1   0.00       0.00\n",
              "1      AACS    Q86V21  SR 142948_NTSR1  -0.03       0.03\n",
              "2     AADAT  Q8N5Z0-2  SR 142948_NTSR1   0.02       0.02\n",
              "3     AAGAB    Q6PD74  SR 142948_NTSR1   0.16       0.16\n",
              "4      AAK1    Q2M2I8  SR 142948_NTSR1  -0.02       0.02"
            ],
            "text/html": [
              "\n",
              "  <div id=\"df-1ffafd34-1fa5-42cc-8200-982d96e4a5c0\">\n",
              "    <div class=\"colab-df-container\">\n",
              "      <div>\n",
              "<style scoped>\n",
              "    .dataframe tbody tr th:only-of-type {\n",
              "        vertical-align: middle;\n",
              "    }\n",
              "\n",
              "    .dataframe tbody tr th {\n",
              "        vertical-align: top;\n",
              "    }\n",
              "\n",
              "    .dataframe thead th {\n",
              "        text-align: right;\n",
              "    }\n",
              "</style>\n",
              "<table border=\"1\" class=\"dataframe\">\n",
              "  <thead>\n",
              "    <tr style=\"text-align: right;\">\n",
              "      <th></th>\n",
              "      <th>Gene Name</th>\n",
              "      <th>UniprotID</th>\n",
              "      <th>variable</th>\n",
              "      <th>value</th>\n",
              "      <th>value_abs</th>\n",
              "    </tr>\n",
              "  </thead>\n",
              "  <tbody>\n",
              "    <tr>\n",
              "      <th>0</th>\n",
              "      <td>AAAS</td>\n",
              "      <td>Q9NRG9</td>\n",
              "      <td>SR 142948_NTSR1</td>\n",
              "      <td>0.00</td>\n",
              "      <td>0.00</td>\n",
              "    </tr>\n",
              "    <tr>\n",
              "      <th>1</th>\n",
              "      <td>AACS</td>\n",
              "      <td>Q86V21</td>\n",
              "      <td>SR 142948_NTSR1</td>\n",
              "      <td>-0.03</td>\n",
              "      <td>0.03</td>\n",
              "    </tr>\n",
              "    <tr>\n",
              "      <th>2</th>\n",
              "      <td>AADAT</td>\n",
              "      <td>Q8N5Z0-2</td>\n",
              "      <td>SR 142948_NTSR1</td>\n",
              "      <td>0.02</td>\n",
              "      <td>0.02</td>\n",
              "    </tr>\n",
              "    <tr>\n",
              "      <th>3</th>\n",
              "      <td>AAGAB</td>\n",
              "      <td>Q6PD74</td>\n",
              "      <td>SR 142948_NTSR1</td>\n",
              "      <td>0.16</td>\n",
              "      <td>0.16</td>\n",
              "    </tr>\n",
              "    <tr>\n",
              "      <th>4</th>\n",
              "      <td>AAK1</td>\n",
              "      <td>Q2M2I8</td>\n",
              "      <td>SR 142948_NTSR1</td>\n",
              "      <td>-0.02</td>\n",
              "      <td>0.02</td>\n",
              "    </tr>\n",
              "  </tbody>\n",
              "</table>\n",
              "</div>\n",
              "      <button class=\"colab-df-convert\" onclick=\"convertToInteractive('df-1ffafd34-1fa5-42cc-8200-982d96e4a5c0')\"\n",
              "              title=\"Convert this dataframe to an interactive table.\"\n",
              "              style=\"display:none;\">\n",
              "        \n",
              "  <svg xmlns=\"http://www.w3.org/2000/svg\" height=\"24px\"viewBox=\"0 0 24 24\"\n",
              "       width=\"24px\">\n",
              "    <path d=\"M0 0h24v24H0V0z\" fill=\"none\"/>\n",
              "    <path d=\"M18.56 5.44l.94 2.06.94-2.06 2.06-.94-2.06-.94-.94-2.06-.94 2.06-2.06.94zm-11 1L8.5 8.5l.94-2.06 2.06-.94-2.06-.94L8.5 2.5l-.94 2.06-2.06.94zm10 10l.94 2.06.94-2.06 2.06-.94-2.06-.94-.94-2.06-.94 2.06-2.06.94z\"/><path d=\"M17.41 7.96l-1.37-1.37c-.4-.4-.92-.59-1.43-.59-.52 0-1.04.2-1.43.59L10.3 9.45l-7.72 7.72c-.78.78-.78 2.05 0 2.83L4 21.41c.39.39.9.59 1.41.59.51 0 1.02-.2 1.41-.59l7.78-7.78 2.81-2.81c.8-.78.8-2.07 0-2.86zM5.41 20L4 18.59l7.72-7.72 1.47 1.35L5.41 20z\"/>\n",
              "  </svg>\n",
              "      </button>\n",
              "      \n",
              "  <style>\n",
              "    .colab-df-container {\n",
              "      display:flex;\n",
              "      flex-wrap:wrap;\n",
              "      gap: 12px;\n",
              "    }\n",
              "\n",
              "    .colab-df-convert {\n",
              "      background-color: #E8F0FE;\n",
              "      border: none;\n",
              "      border-radius: 50%;\n",
              "      cursor: pointer;\n",
              "      display: none;\n",
              "      fill: #1967D2;\n",
              "      height: 32px;\n",
              "      padding: 0 0 0 0;\n",
              "      width: 32px;\n",
              "    }\n",
              "\n",
              "    .colab-df-convert:hover {\n",
              "      background-color: #E2EBFA;\n",
              "      box-shadow: 0px 1px 2px rgba(60, 64, 67, 0.3), 0px 1px 3px 1px rgba(60, 64, 67, 0.15);\n",
              "      fill: #174EA6;\n",
              "    }\n",
              "\n",
              "    [theme=dark] .colab-df-convert {\n",
              "      background-color: #3B4455;\n",
              "      fill: #D2E3FC;\n",
              "    }\n",
              "\n",
              "    [theme=dark] .colab-df-convert:hover {\n",
              "      background-color: #434B5C;\n",
              "      box-shadow: 0px 1px 3px 1px rgba(0, 0, 0, 0.15);\n",
              "      filter: drop-shadow(0px 1px 2px rgba(0, 0, 0, 0.3));\n",
              "      fill: #FFFFFF;\n",
              "    }\n",
              "  </style>\n",
              "\n",
              "      <script>\n",
              "        const buttonEl =\n",
              "          document.querySelector('#df-1ffafd34-1fa5-42cc-8200-982d96e4a5c0 button.colab-df-convert');\n",
              "        buttonEl.style.display =\n",
              "          google.colab.kernel.accessAllowed ? 'block' : 'none';\n",
              "\n",
              "        async function convertToInteractive(key) {\n",
              "          const element = document.querySelector('#df-1ffafd34-1fa5-42cc-8200-982d96e4a5c0');\n",
              "          const dataTable =\n",
              "            await google.colab.kernel.invokeFunction('convertToInteractive',\n",
              "                                                     [key], {});\n",
              "          if (!dataTable) return;\n",
              "\n",
              "          const docLinkHtml = 'Like what you see? Visit the ' +\n",
              "            '<a target=\"_blank\" href=https://colab.research.google.com/notebooks/data_table.ipynb>data table notebook</a>'\n",
              "            + ' to learn more about interactive tables.';\n",
              "          element.innerHTML = '';\n",
              "          dataTable['output_type'] = 'display_data';\n",
              "          await google.colab.output.renderOutput(dataTable, element);\n",
              "          const docLink = document.createElement('div');\n",
              "          docLink.innerHTML = docLinkHtml;\n",
              "          element.appendChild(docLink);\n",
              "        }\n",
              "      </script>\n",
              "    </div>\n",
              "  </div>\n",
              "  "
            ]
          },
          "metadata": {},
          "execution_count": 12
        }
      ]
    },
    {
      "cell_type": "code",
      "source": [
        "cmps_m05_ezstats = get_ez_stats(dfs1_mlt)\n",
        "cmps_m05_ezstats[cmps_m05_ezstats['nTProteins'] > 50]['Primary Target'].value_counts()"
      ],
      "metadata": {
        "colab": {
          "base_uri": "https://localhost:8080/"
        },
        "id": "VLz8TRCLBOUP",
        "outputId": "451f325d-cef3-4eb1-ae95-e460468abc62"
      },
      "execution_count": 13,
      "outputs": [
        {
          "output_type": "execute_result",
          "data": {
            "text/plain": [
              "PTK2        3\n",
              "PIK3CA      3\n",
              "BRD4        3\n",
              "CDK4        3\n",
              "MDM2        3\n",
              "           ..\n",
              "EWSR1       1\n",
              "CHEK1       1\n",
              "ABL1;SRC    1\n",
              "TYK2        1\n",
              "PSEN1       1\n",
              "Name: Primary Target, Length: 166, dtype: int64"
            ]
          },
          "metadata": {},
          "execution_count": 13
        }
      ]
    },
    {
      "cell_type": "code",
      "source": [
        "cmps_m1_ezstats = get_ez_stats(dfs1_mlt, -1)\n",
        "cmps_m1_ezstats = cmps_m1_ezstats[['nTProteins', 'Compound Name', 'Primary Target']]\n",
        "cmps_m1_ezstats['Primary Target'] = cmps_m1_ezstats['Primary Target'].str.split(';')\n",
        "cmps_m1_ezstats = cmps_m1_ezstats.explode('Primary Target').sort_values('Primary Target').reset_index(drop=True)\n",
        "cmps_m1_ezstats[cmps_m1_ezstats['nTProteins'] > 50]['Primary Target'].value_counts().index"
      ],
      "metadata": {
        "colab": {
          "base_uri": "https://localhost:8080/"
        },
        "id": "5bVUdDnZLXEv",
        "outputId": "6cdd8d8b-00d4-4e64-b072-8cb97e8bbbc1"
      },
      "execution_count": 14,
      "outputs": [
        {
          "output_type": "execute_result",
          "data": {
            "text/plain": [
              "Index(['HDAC1', 'PIK3CA', 'BRD4', 'MDM2', 'ABL1', 'PTK2', 'KIF11', 'PLK1',\n",
              "       'HDAC3', 'HDAC6', 'PSMB5', 'HSP90AA1', 'FLT3', 'RAF1', 'IGF1R', 'SYK',\n",
              "       'JAK2', 'NAE1', 'MELK', 'MAPK1', 'MAP2K1', 'LCK', 'MTOR', 'PLD2',\n",
              "       'OXTR', 'PAK4', 'PRKD1', 'PRKDC', 'PSMB8', 'RXRB', 'SLC6A3', 'SRC',\n",
              "       'SSRP1', 'STAT6', 'TOP1', 'TTK', 'VCP', 'KIT', 'JAK1', 'KDR', 'CXCR2',\n",
              "       'AKT2', 'ATP6V1H', 'AURKB', 'BCL2L1', 'BRAF', 'CDC7', 'CDK2', 'CDK4',\n",
              "       'CDK9', 'CENPE', 'CHEK1', 'CTNNB1', 'DHODH', 'KDM1A', 'EHMT1', 'EHMT2',\n",
              "       'EPHB4', 'EWSR1', 'FGFR1', 'GHSR', 'GPER1', 'HSP90B1', 'IKBKB', 'IL1B',\n",
              "       'IMPDH2', 'ADRA2C', 'XPO1'],\n",
              "      dtype='object')"
            ]
          },
          "metadata": {},
          "execution_count": 14
        }
      ]
    },
    {
      "cell_type": "code",
      "source": [
        "cmps_m1_ezstats[cmps_m1_ezstats['nTProteins'] > 100]['Primary Target'].value_counts().head(20)"
      ],
      "metadata": {
        "id": "JC6Vvq2FM6pg",
        "outputId": "b08fec49-257d-4523-9509-4eb10b7c19cf",
        "colab": {
          "base_uri": "https://localhost:8080/"
        }
      },
      "execution_count": 15,
      "outputs": [
        {
          "output_type": "execute_result",
          "data": {
            "text/plain": [
              "HDAC1     3\n",
              "MDM2      3\n",
              "BRD4      3\n",
              "PLK1      2\n",
              "RAF1      2\n",
              "PIK3CA    2\n",
              "HDAC6     2\n",
              "PTK2      2\n",
              "IGF1R     2\n",
              "KIF11     2\n",
              "FLT3      2\n",
              "OXTR      1\n",
              "PLD2      1\n",
              "NAE1      1\n",
              "PAK4      1\n",
              "MELK      1\n",
              "MAPK1     1\n",
              "ABL1      1\n",
              "LCK       1\n",
              "PRKD1     1\n",
              "Name: Primary Target, dtype: int64"
            ]
          },
          "metadata": {},
          "execution_count": 15
        }
      ]
    },
    {
      "cell_type": "code",
      "source": [
        "cmps_m1_ezstats[cmps_m1_ezstats['Primary Target'] == 'OXTR']"
      ],
      "metadata": {
        "id": "cvCvjcZErhek",
        "colab": {
          "base_uri": "https://localhost:8080/",
          "height": 81
        },
        "outputId": "749e30be-9384-46a2-ec3c-8ff4e1c9025b"
      },
      "execution_count": 16,
      "outputs": [
        {
          "output_type": "execute_result",
          "data": {
            "text/plain": [
              "     nTProteins Compound Name Primary Target\n",
              "541         123  CHEMBL200403           OXTR"
            ],
            "text/html": [
              "\n",
              "  <div id=\"df-e2cb9001-0261-487c-8082-2087f74e7777\">\n",
              "    <div class=\"colab-df-container\">\n",
              "      <div>\n",
              "<style scoped>\n",
              "    .dataframe tbody tr th:only-of-type {\n",
              "        vertical-align: middle;\n",
              "    }\n",
              "\n",
              "    .dataframe tbody tr th {\n",
              "        vertical-align: top;\n",
              "    }\n",
              "\n",
              "    .dataframe thead th {\n",
              "        text-align: right;\n",
              "    }\n",
              "</style>\n",
              "<table border=\"1\" class=\"dataframe\">\n",
              "  <thead>\n",
              "    <tr style=\"text-align: right;\">\n",
              "      <th></th>\n",
              "      <th>nTProteins</th>\n",
              "      <th>Compound Name</th>\n",
              "      <th>Primary Target</th>\n",
              "    </tr>\n",
              "  </thead>\n",
              "  <tbody>\n",
              "    <tr>\n",
              "      <th>541</th>\n",
              "      <td>123</td>\n",
              "      <td>CHEMBL200403</td>\n",
              "      <td>OXTR</td>\n",
              "    </tr>\n",
              "  </tbody>\n",
              "</table>\n",
              "</div>\n",
              "      <button class=\"colab-df-convert\" onclick=\"convertToInteractive('df-e2cb9001-0261-487c-8082-2087f74e7777')\"\n",
              "              title=\"Convert this dataframe to an interactive table.\"\n",
              "              style=\"display:none;\">\n",
              "        \n",
              "  <svg xmlns=\"http://www.w3.org/2000/svg\" height=\"24px\"viewBox=\"0 0 24 24\"\n",
              "       width=\"24px\">\n",
              "    <path d=\"M0 0h24v24H0V0z\" fill=\"none\"/>\n",
              "    <path d=\"M18.56 5.44l.94 2.06.94-2.06 2.06-.94-2.06-.94-.94-2.06-.94 2.06-2.06.94zm-11 1L8.5 8.5l.94-2.06 2.06-.94-2.06-.94L8.5 2.5l-.94 2.06-2.06.94zm10 10l.94 2.06.94-2.06 2.06-.94-2.06-.94-.94-2.06-.94 2.06-2.06.94z\"/><path d=\"M17.41 7.96l-1.37-1.37c-.4-.4-.92-.59-1.43-.59-.52 0-1.04.2-1.43.59L10.3 9.45l-7.72 7.72c-.78.78-.78 2.05 0 2.83L4 21.41c.39.39.9.59 1.41.59.51 0 1.02-.2 1.41-.59l7.78-7.78 2.81-2.81c.8-.78.8-2.07 0-2.86zM5.41 20L4 18.59l7.72-7.72 1.47 1.35L5.41 20z\"/>\n",
              "  </svg>\n",
              "      </button>\n",
              "      \n",
              "  <style>\n",
              "    .colab-df-container {\n",
              "      display:flex;\n",
              "      flex-wrap:wrap;\n",
              "      gap: 12px;\n",
              "    }\n",
              "\n",
              "    .colab-df-convert {\n",
              "      background-color: #E8F0FE;\n",
              "      border: none;\n",
              "      border-radius: 50%;\n",
              "      cursor: pointer;\n",
              "      display: none;\n",
              "      fill: #1967D2;\n",
              "      height: 32px;\n",
              "      padding: 0 0 0 0;\n",
              "      width: 32px;\n",
              "    }\n",
              "\n",
              "    .colab-df-convert:hover {\n",
              "      background-color: #E2EBFA;\n",
              "      box-shadow: 0px 1px 2px rgba(60, 64, 67, 0.3), 0px 1px 3px 1px rgba(60, 64, 67, 0.15);\n",
              "      fill: #174EA6;\n",
              "    }\n",
              "\n",
              "    [theme=dark] .colab-df-convert {\n",
              "      background-color: #3B4455;\n",
              "      fill: #D2E3FC;\n",
              "    }\n",
              "\n",
              "    [theme=dark] .colab-df-convert:hover {\n",
              "      background-color: #434B5C;\n",
              "      box-shadow: 0px 1px 3px 1px rgba(0, 0, 0, 0.15);\n",
              "      filter: drop-shadow(0px 1px 2px rgba(0, 0, 0, 0.3));\n",
              "      fill: #FFFFFF;\n",
              "    }\n",
              "  </style>\n",
              "\n",
              "      <script>\n",
              "        const buttonEl =\n",
              "          document.querySelector('#df-e2cb9001-0261-487c-8082-2087f74e7777 button.colab-df-convert');\n",
              "        buttonEl.style.display =\n",
              "          google.colab.kernel.accessAllowed ? 'block' : 'none';\n",
              "\n",
              "        async function convertToInteractive(key) {\n",
              "          const element = document.querySelector('#df-e2cb9001-0261-487c-8082-2087f74e7777');\n",
              "          const dataTable =\n",
              "            await google.colab.kernel.invokeFunction('convertToInteractive',\n",
              "                                                     [key], {});\n",
              "          if (!dataTable) return;\n",
              "\n",
              "          const docLinkHtml = 'Like what you see? Visit the ' +\n",
              "            '<a target=\"_blank\" href=https://colab.research.google.com/notebooks/data_table.ipynb>data table notebook</a>'\n",
              "            + ' to learn more about interactive tables.';\n",
              "          element.innerHTML = '';\n",
              "          dataTable['output_type'] = 'display_data';\n",
              "          await google.colab.output.renderOutput(dataTable, element);\n",
              "          const docLink = document.createElement('div');\n",
              "          docLink.innerHTML = docLinkHtml;\n",
              "          element.appendChild(docLink);\n",
              "        }\n",
              "      </script>\n",
              "    </div>\n",
              "  </div>\n",
              "  "
            ]
          },
          "metadata": {},
          "execution_count": 16
        }
      ]
    },
    {
      "cell_type": "code",
      "source": [
        "CHEMBL200403 = dfs2[dfs2['Compound Name'] == 'CHEMBL200403']['SMILES'].values[0]\n",
        "Chem.MolFromSmiles(CHEMBL200403)\n",
        "# S is for suspicious"
      ],
      "metadata": {
        "colab": {
          "base_uri": "https://localhost:8080/",
          "height": 167
        },
        "id": "BQBxgyLgUacL",
        "outputId": "527bae8a-5591-43a3-82b3-7691ed17b8e8"
      },
      "execution_count": 17,
      "outputs": [
        {
          "output_type": "execute_result",
          "data": {
            "text/plain": [
              "<rdkit.Chem.rdchem.Mol at 0x7fb8921a6e40>"
            ],
            "image/png": "[encoded data removed]"
          },
          "metadata": {},
          "execution_count": 17
        }
      ]
    },
    {
      "cell_type": "markdown",
      "source": [
        "## Case 1: RN486"
      ],
      "metadata": {
        "id": "AgDXGSn2rh41"
      }
    },
    {
      "cell_type": "code",
      "source": [
        "case1_d = getDataForComps(['RN486', 'SB-224289', 'UNC 0638', 'Cediranib', 'STK410283'])\n",
        "case1_d"
      ],
      "metadata": {
        "colab": {
          "base_uri": "https://localhost:8080/"
        },
        "id": "jAlXzXfsugLN",
        "outputId": "8a918d8f-96be-4d34-de4e-d4ba38485b42"
      },
      "execution_count": 18,
      "outputs": [
        {
          "output_type": "execute_result",
          "data": {
            "text/plain": [
              "{'names': ['RN486', 'SB-224289', 'UNC 0638', 'Cediranib', 'STK410283'],\n",
              " 'mols': [<rdkit.Chem.rdchem.Mol at 0x7fb8920cf040>,\n",
              "  <rdkit.Chem.rdchem.Mol at 0x7fb8920cf0b0>,\n",
              "  <rdkit.Chem.rdchem.Mol at 0x7fb8920cf120>,\n",
              "  <rdkit.Chem.rdchem.Mol at 0x7fb8920cf190>,\n",
              "  <rdkit.Chem.rdchem.Mol at 0x7fb8920cf200>],\n",
              " 'sims': [1.0, 0.5721, 0.4398, 0.442, 0.4042],\n",
              " 'prots': 88}"
            ]
          },
          "metadata": {},
          "execution_count": 18
        }
      ]
    },
    {
      "cell_type": "code",
      "source": [
        "getImage(case1_d)"
      ],
      "metadata": {
        "colab": {
          "base_uri": "https://localhost:8080/",
          "height": 217
        },
        "id": "CPf6VyvVxdgR",
        "outputId": "3837719f-8b4d-427c-f822-f1e84540f5e6"
      },
      "execution_count": 19,
      "outputs": [
        {
          "output_type": "execute_result",
          "data": {
            "image/png": "[encoded data removed]",
            "text/plain": [
              "<IPython.core.display.Image object>"
            ]
          },
          "metadata": {},
          "execution_count": 19
        }
      ]
    },
    {
      "cell_type": "markdown",
      "source": [
        "## Case 2: JP1302"
      ],
      "metadata": {
        "id": "-Eq5e9NZtQJE"
      }
    },
    {
      "cell_type": "code",
      "source": [
        "case2_d = getDataForComps(['JP1302', 'Flavopiridol', 'AZD-5438', 'PHA 767491', 'CBL0137'])\n",
        "case2_d"
      ],
      "metadata": {
        "colab": {
          "base_uri": "https://localhost:8080/"
        },
        "id": "nxvIOnFLtSw1",
        "outputId": "9b0ccbbb-3ee8-4bd1-f41f-125b88ac899e"
      },
      "execution_count": 20,
      "outputs": [
        {
          "output_type": "execute_result",
          "data": {
            "text/plain": [
              "{'names': ['JP1302', 'Flavopiridol', 'AZD-5438', 'PHA 767491', 'CBL0137'],\n",
              " 'mols': [<rdkit.Chem.rdchem.Mol at 0x7fb8920cf5f0>,\n",
              "  <rdkit.Chem.rdchem.Mol at 0x7fb8920cf660>,\n",
              "  <rdkit.Chem.rdchem.Mol at 0x7fb8920cf6d0>,\n",
              "  <rdkit.Chem.rdchem.Mol at 0x7fb8920cf740>,\n",
              "  <rdkit.Chem.rdchem.Mol at 0x7fb8920cf7b0>],\n",
              " 'sims': [1.0, 0.4152, 0.4179, 0.3753, 0.4088],\n",
              " 'prots': 672}"
            ]
          },
          "metadata": {},
          "execution_count": 20
        }
      ]
    },
    {
      "cell_type": "code",
      "source": [
        "getImage(case2_d)"
      ],
      "metadata": {
        "colab": {
          "base_uri": "https://localhost:8080/",
          "height": 217
        },
        "id": "1DX_KAsByt_h",
        "outputId": "eaee1b4b-e30f-4d1a-8454-9586ab2534ee"
      },
      "execution_count": 21,
      "outputs": [
        {
          "output_type": "execute_result",
          "data": {
            "image/png": "[encoded data removed]",
            "text/plain": [
              "<IPython.core.display.Image object>"
            ]
          },
          "metadata": {},
          "execution_count": 21
        }
      ]
    },
    {
      "cell_type": "markdown",
      "source": [
        "## Case 3: nutlin3a"
      ],
      "metadata": {
        "id": "zvDukNqchcPu"
      }
    },
    {
      "cell_type": "code",
      "source": [
        "case3_d = getDataForComps(['Nutlin3a', 'Idasanutlin', 'MI-773', 'UNC2250'])\n",
        "case3_d"
      ],
      "metadata": {
        "colab": {
          "base_uri": "https://localhost:8080/"
        },
        "id": "c6q3Rfr_hhV9",
        "outputId": "369468dd-1a68-4a0a-a27d-1279fede24e0"
      },
      "execution_count": 22,
      "outputs": [
        {
          "output_type": "execute_result",
          "data": {
            "text/plain": [
              "{'names': ['Nutlin3a', 'Idasanutlin', 'MI-773', 'UNC2250'],\n",
              " 'mols': [<rdkit.Chem.rdchem.Mol at 0x7fb8920cfac0>,\n",
              "  <rdkit.Chem.rdchem.Mol at 0x7fb8920cfb30>,\n",
              "  <rdkit.Chem.rdchem.Mol at 0x7fb8920cfba0>,\n",
              "  <rdkit.Chem.rdchem.Mol at 0x7fb8920cfc10>],\n",
              " 'sims': [1.0, 0.5459, 0.5679, 0.3899],\n",
              " 'prots': 365}"
            ]
          },
          "metadata": {},
          "execution_count": 22
        }
      ]
    },
    {
      "cell_type": "code",
      "source": [
        "getImage(case3_d)"
      ],
      "metadata": {
        "id": "H02V4MPykvHd",
        "colab": {
          "base_uri": "https://localhost:8080/",
          "height": 217
        },
        "outputId": "40bd08ac-d5a8-404d-b0b1-f4ad1e9e8aef"
      },
      "execution_count": 23,
      "outputs": [
        {
          "output_type": "execute_result",
          "data": {
            "image/png": "[encoded data removed]",
            "text/plain": [
              "<IPython.core.display.Image object>"
            ]
          },
          "metadata": {},
          "execution_count": 23
        }
      ]
    },
    {
      "cell_type": "markdown",
      "source": [
        "## Case 4: Identical Murcko scaffolds"
      ],
      "metadata": {
        "id": "CYnapkm8RLQg"
      }
    },
    {
      "cell_type": "code",
      "source": [
        "# adding scaffold information\n",
        "dfs2[['scaffold_mol', 'scaffold_inchikey']] = [get_mscaffold(i) for i in dfs2['mol'].values ]"
      ],
      "metadata": {
        "id": "VuO0jh6E15jG"
      },
      "execution_count": 24,
      "outputs": []
    },
    {
      "cell_type": "code",
      "source": [
        "# taking compounds with identical scaffolds\n",
        "dfs2_ik_dupl = dfs2.dropna(subset=['scaffold_inchikey'], how='any')\n",
        "dfs2_ik_dupl = dfs2_ik_dupl[dfs2_ik_dupl['scaffold_inchikey'] != '']\n",
        "dfs2_ik_dupl = dfs2_ik_dupl[dfs2_ik_dupl['scaffold_inchikey'].duplicated()].reset_index(drop=True)"
      ],
      "metadata": {
        "id": "rHFdyWem7gRb"
      },
      "execution_count": 25,
      "outputs": []
    },
    {
      "cell_type": "code",
      "source": [
        "# let's check how big scaffold are in duplicated scaffolds\n",
        "# we are definitely interested in >6 atoms per scaffold\n",
        "dfs2_ik_dupl['scaffold_mol_nHAtoms'] = [m.GetNumHeavyAtoms() for m in dfs2_ik_dupl['scaffold_mol']]\n",
        "dfs2_ik_dupl['scaffold_mol_nHAtoms'].value_counts()"
      ],
      "metadata": {
        "id": "B2XZX738_sA4",
        "colab": {
          "base_uri": "https://localhost:8080/"
        },
        "outputId": "20930d4e-65ae-41f0-b1b7-9b78026faa35"
      },
      "execution_count": 26,
      "outputs": [
        {
          "output_type": "execute_result",
          "data": {
            "text/plain": [
              "6     46\n",
              "17     9\n",
              "16     7\n",
              "13     6\n",
              "9      5\n",
              "18     5\n",
              "11     4\n",
              "24     3\n",
              "14     3\n",
              "26     3\n",
              "5      3\n",
              "10     2\n",
              "12     2\n",
              "25     2\n",
              "19     2\n",
              "29     2\n",
              "28     2\n",
              "30     1\n",
              "21     1\n",
              "35     1\n",
              "15     1\n",
              "40     1\n",
              "23     1\n",
              "20     1\n",
              "Name: scaffold_mol_nHAtoms, dtype: int64"
            ]
          },
          "metadata": {},
          "execution_count": 26
        }
      ]
    },
    {
      "cell_type": "code",
      "source": [
        "skik_g6 = dfs2_ik_dupl[dfs2_ik_dupl['scaffold_mol_nHAtoms'] > 6]['scaffold_inchikey'].value_counts()\n",
        "top_scaffolds_ik = skik_g6[skik_g6 >=2 ].index.to_list()\n",
        "print(f'Number of compounds with duplicated Murcko scaffold: {len(top_scaffolds_ik)}')"
      ],
      "metadata": {
        "colab": {
          "base_uri": "https://localhost:8080/"
        },
        "id": "Yz3Lvh3rR5vn",
        "outputId": "30669b4c-c072-4212-c7fd-d0f253b7f2ce"
      },
      "execution_count": 27,
      "outputs": [
        {
          "output_type": "stream",
          "name": "stdout",
          "text": [
            "Number of compounds with duplicated Murcko scaffold: 11\n"
          ]
        }
      ]
    },
    {
      "cell_type": "code",
      "source": [
        "# let's see them\n",
        "top_scaffolds_exmpls = dfs2_ik_dupl[dfs2_ik_dupl['scaffold_inchikey'].isin(top_scaffolds_ik)].drop_duplicates(subset=['scaffold_inchikey'])\n",
        "top_scaffolds_exmpls_ik = top_scaffolds_exmpls['scaffold_inchikey'].to_list()\n",
        "Draw.MolsToGridImage(top_scaffolds_exmpls['scaffold_mol'])\n",
        "# most of them are not very interesting"
      ],
      "metadata": {
        "colab": {
          "base_uri": "https://localhost:8080/",
          "height": 817
        },
        "id": "-KxWY9s9U3N-",
        "outputId": "128fff22-c3cf-4f94-d70f-79dcf5bbd4bb"
      },
      "execution_count": 28,
      "outputs": [
        {
          "output_type": "execute_result",
          "data": {
            "image/png": "[encoded data removed]",
            "text/plain": [
              "<IPython.core.display.Image object>"
            ]
          },
          "metadata": {},
          "execution_count": 28
        }
      ]
    },
    {
      "cell_type": "code",
      "source": [
        "Draw.MolsToGridImage(dfs2[dfs2['scaffold_inchikey'] == top_scaffolds_exmpls_ik[3]]['mol'])\n",
        "# nope, pharmacophore is drastically different"
      ],
      "metadata": {
        "colab": {
          "base_uri": "https://localhost:8080/",
          "height": 217
        },
        "id": "wizpDt3vSe-_",
        "outputId": "404c0665-2739-4928-dc59-9c5f0b896096"
      },
      "execution_count": 29,
      "outputs": [
        {
          "output_type": "execute_result",
          "data": {
            "image/png": "[encoded data removed]",
            "text/plain": [
              "<IPython.core.display.Image object>"
            ]
          },
          "metadata": {},
          "execution_count": 29
        }
      ]
    },
    {
      "cell_type": "code",
      "source": [
        "Draw.MolsToGridImage(dfs2[dfs2['scaffold_inchikey'] == top_scaffolds_exmpls_ik[-2]]['mol'])\n",
        "# that might be interesting, but steroids are always tricky"
      ],
      "metadata": {
        "colab": {
          "base_uri": "https://localhost:8080/",
          "height": 217
        },
        "id": "vNUii9iQTUSC",
        "outputId": "24f4529a-6d8b-4842-d945-d469339d3ec3"
      },
      "execution_count": 30,
      "outputs": [
        {
          "output_type": "execute_result",
          "data": {
            "image/png": "[encoded data removed]",
            "text/plain": [
              "<IPython.core.display.Image object>"
            ]
          },
          "metadata": {},
          "execution_count": 30
        }
      ]
    },
    {
      "cell_type": "code",
      "source": [
        "#case4_example0 = dfs2[dfs2['scaffold_inchikey'] == top_scaffolds_exmpls_ik[-2]]['Compound Name'].to_list()\n",
        "#case4_example0_prots_g10 = {k: set(getProteins(k, 1)) for k in case4_example0}"
      ],
      "metadata": {
        "id": "YPLZiNaxVA1l"
      },
      "execution_count": 31,
      "outputs": []
    },
    {
      "cell_type": "code",
      "source": [
        "Draw.MolsToGridImage(dfs2[dfs2['scaffold_inchikey'] == top_scaffolds_exmpls_ik[-1]]['mol'])\n",
        "# yep, that's interesting\n",
        "# not sure why they have Tazarotene and Tazarotene1\t and Tazarotene2 names"
      ],
      "metadata": {
        "colab": {
          "base_uri": "https://localhost:8080/",
          "height": 217
        },
        "id": "OciARiPpZtxL",
        "outputId": "fc2501f5-4efe-4801-eb91-443aa48e49cb"
      },
      "execution_count": 32,
      "outputs": [
        {
          "output_type": "execute_result",
          "data": {
            "image/png": "[encoded data removed]",
            "text/plain": [
              "<IPython.core.display.Image object>"
            ]
          },
          "metadata": {},
          "execution_count": 32
        }
      ]
    },
    {
      "cell_type": "markdown",
      "source": [
        "### Case 4: identical Murcko scaffolds - example 1"
      ],
      "metadata": {
        "id": "rL_40hMPdcGv"
      }
    },
    {
      "cell_type": "code",
      "source": [
        "case4_example1 = ['AGN 190299', 'Tazarotene1', 'Tazarotene2']"
      ],
      "metadata": {
        "id": "bPkI_OaaXhaQ"
      },
      "execution_count": 33,
      "outputs": []
    },
    {
      "cell_type": "code",
      "source": [
        "dfs2.columns"
      ],
      "metadata": {
        "colab": {
          "base_uri": "https://localhost:8080/"
        },
        "id": "4rPSeuGFapl9",
        "outputId": "e75bc9a8-aed2-4dfa-b6cd-e345dc37ec0b"
      },
      "execution_count": 34,
      "outputs": [
        {
          "output_type": "execute_result",
          "data": {
            "text/plain": [
              "Index(['Compound Name', 'Primary Target', 'Secondary Target', 'SMILES', 'MW',\n",
              "       'Formula', 'Screening Concentration', 'mol', 'scaffold_mol',\n",
              "       'scaffold_inchikey'],\n",
              "      dtype='object')"
            ]
          },
          "metadata": {},
          "execution_count": 34
        }
      ]
    },
    {
      "cell_type": "code",
      "source": [
        "dfs2[dfs2['Compound Name'].isin(case4_example1)][['Compound Name', 'Primary Target', 'Secondary Target', 'MW', 'Formula', 'Screening Concentration', ]]"
      ],
      "metadata": {
        "colab": {
          "base_uri": "https://localhost:8080/",
          "height": 143
        },
        "id": "7gQnFa0labz2",
        "outputId": "891b407f-f67e-4b46-f3c0-bd8578c31a4f"
      },
      "execution_count": 35,
      "outputs": [
        {
          "output_type": "execute_result",
          "data": {
            "text/plain": [
              "    Compound Name Primary Target Secondary Target      MW     Formula  \\\n",
              "59     AGN 190299           RARB              NaN   323.1  C19H17NO2S   \n",
              "559   Tazarotene1           RARB        RARG;RARA  351.13  C21H21NO2S   \n",
              "569   Tazarotene2           RARB        RARG;RARA  351.13  C21H21NO2S   \n",
              "\n",
              "    Screening Concentration  \n",
              "59                     10uM  \n",
              "559                    10uM  \n",
              "569                    10uM  "
            ],
            "text/html": [
              "\n",
              "  <div id=\"df-cb309ef1-6de4-4af6-8e2e-3bc33685f03e\">\n",
              "    <div class=\"colab-df-container\">\n",
              "      <div>\n",
              "<style scoped>\n",
              "    .dataframe tbody tr th:only-of-type {\n",
              "        vertical-align: middle;\n",
              "    }\n",
              "\n",
              "    .dataframe tbody tr th {\n",
              "        vertical-align: top;\n",
              "    }\n",
              "\n",
              "    .dataframe thead th {\n",
              "        text-align: right;\n",
              "    }\n",
              "</style>\n",
              "<table border=\"1\" class=\"dataframe\">\n",
              "  <thead>\n",
              "    <tr style=\"text-align: right;\">\n",
              "      <th></th>\n",
              "      <th>Compound Name</th>\n",
              "      <th>Primary Target</th>\n",
              "      <th>Secondary Target</th>\n",
              "      <th>MW</th>\n",
              "      <th>Formula</th>\n",
              "      <th>Screening Concentration</th>\n",
              "    </tr>\n",
              "  </thead>\n",
              "  <tbody>\n",
              "    <tr>\n",
              "      <th>59</th>\n",
              "      <td>AGN 190299</td>\n",
              "      <td>RARB</td>\n",
              "      <td>NaN</td>\n",
              "      <td>323.1</td>\n",
              "      <td>C19H17NO2S</td>\n",
              "      <td>10uM</td>\n",
              "    </tr>\n",
              "    <tr>\n",
              "      <th>559</th>\n",
              "      <td>Tazarotene1</td>\n",
              "      <td>RARB</td>\n",
              "      <td>RARG;RARA</td>\n",
              "      <td>351.13</td>\n",
              "      <td>C21H21NO2S</td>\n",
              "      <td>10uM</td>\n",
              "    </tr>\n",
              "    <tr>\n",
              "      <th>569</th>\n",
              "      <td>Tazarotene2</td>\n",
              "      <td>RARB</td>\n",
              "      <td>RARG;RARA</td>\n",
              "      <td>351.13</td>\n",
              "      <td>C21H21NO2S</td>\n",
              "      <td>10uM</td>\n",
              "    </tr>\n",
              "  </tbody>\n",
              "</table>\n",
              "</div>\n",
              "      <button class=\"colab-df-convert\" onclick=\"convertToInteractive('df-cb309ef1-6de4-4af6-8e2e-3bc33685f03e')\"\n",
              "              title=\"Convert this dataframe to an interactive table.\"\n",
              "              style=\"display:none;\">\n",
              "        \n",
              "  <svg xmlns=\"http://www.w3.org/2000/svg\" height=\"24px\"viewBox=\"0 0 24 24\"\n",
              "       width=\"24px\">\n",
              "    <path d=\"M0 0h24v24H0V0z\" fill=\"none\"/>\n",
              "    <path d=\"M18.56 5.44l.94 2.06.94-2.06 2.06-.94-2.06-.94-.94-2.06-.94 2.06-2.06.94zm-11 1L8.5 8.5l.94-2.06 2.06-.94-2.06-.94L8.5 2.5l-.94 2.06-2.06.94zm10 10l.94 2.06.94-2.06 2.06-.94-2.06-.94-.94-2.06-.94 2.06-2.06.94z\"/><path d=\"M17.41 7.96l-1.37-1.37c-.4-.4-.92-.59-1.43-.59-.52 0-1.04.2-1.43.59L10.3 9.45l-7.72 7.72c-.78.78-.78 2.05 0 2.83L4 21.41c.39.39.9.59 1.41.59.51 0 1.02-.2 1.41-.59l7.78-7.78 2.81-2.81c.8-.78.8-2.07 0-2.86zM5.41 20L4 18.59l7.72-7.72 1.47 1.35L5.41 20z\"/>\n",
              "  </svg>\n",
              "      </button>\n",
              "      \n",
              "  <style>\n",
              "    .colab-df-container {\n",
              "      display:flex;\n",
              "      flex-wrap:wrap;\n",
              "      gap: 12px;\n",
              "    }\n",
              "\n",
              "    .colab-df-convert {\n",
              "      background-color: #E8F0FE;\n",
              "      border: none;\n",
              "      border-radius: 50%;\n",
              "      cursor: pointer;\n",
              "      display: none;\n",
              "      fill: #1967D2;\n",
              "      height: 32px;\n",
              "      padding: 0 0 0 0;\n",
              "      width: 32px;\n",
              "    }\n",
              "\n",
              "    .colab-df-convert:hover {\n",
              "      background-color: #E2EBFA;\n",
              "      box-shadow: 0px 1px 2px rgba(60, 64, 67, 0.3), 0px 1px 3px 1px rgba(60, 64, 67, 0.15);\n",
              "      fill: #174EA6;\n",
              "    }\n",
              "\n",
              "    [theme=dark] .colab-df-convert {\n",
              "      background-color: #3B4455;\n",
              "      fill: #D2E3FC;\n",
              "    }\n",
              "\n",
              "    [theme=dark] .colab-df-convert:hover {\n",
              "      background-color: #434B5C;\n",
              "      box-shadow: 0px 1px 3px 1px rgba(0, 0, 0, 0.15);\n",
              "      filter: drop-shadow(0px 1px 2px rgba(0, 0, 0, 0.3));\n",
              "      fill: #FFFFFF;\n",
              "    }\n",
              "  </style>\n",
              "\n",
              "      <script>\n",
              "        const buttonEl =\n",
              "          document.querySelector('#df-cb309ef1-6de4-4af6-8e2e-3bc33685f03e button.colab-df-convert');\n",
              "        buttonEl.style.display =\n",
              "          google.colab.kernel.accessAllowed ? 'block' : 'none';\n",
              "\n",
              "        async function convertToInteractive(key) {\n",
              "          const element = document.querySelector('#df-cb309ef1-6de4-4af6-8e2e-3bc33685f03e');\n",
              "          const dataTable =\n",
              "            await google.colab.kernel.invokeFunction('convertToInteractive',\n",
              "                                                     [key], {});\n",
              "          if (!dataTable) return;\n",
              "\n",
              "          const docLinkHtml = 'Like what you see? Visit the ' +\n",
              "            '<a target=\"_blank\" href=https://colab.research.google.com/notebooks/data_table.ipynb>data table notebook</a>'\n",
              "            + ' to learn more about interactive tables.';\n",
              "          element.innerHTML = '';\n",
              "          dataTable['output_type'] = 'display_data';\n",
              "          await google.colab.output.renderOutput(dataTable, element);\n",
              "          const docLink = document.createElement('div');\n",
              "          docLink.innerHTML = docLinkHtml;\n",
              "          element.appendChild(docLink);\n",
              "        }\n",
              "      </script>\n",
              "    </div>\n",
              "  </div>\n",
              "  "
            ]
          },
          "metadata": {},
          "execution_count": 35
        }
      ]
    },
    {
      "cell_type": "code",
      "source": [
        "case4_example1_prots_g05 = {k: set(getProteins(k, 0.5)) for k in case4_example1}\n",
        "case4_example1_prots_g10 = {k: set(getProteins(k, 1)) for k in case4_example1}\n",
        "for k,v in case4_example1_prots_g05.items():\n",
        "  print(f'Number of proteins for {k} at 0.5 cutoff: {len(v)}')\n",
        "  print(f'Number of proteins for {k} at 1.0 cutoff: {len(case4_example1_prots_g10[k])}')\n",
        "  print('\\n')"
      ],
      "metadata": {
        "colab": {
          "base_uri": "https://localhost:8080/"
        },
        "id": "NeP0GrDDWNwy",
        "outputId": "825fab3a-c83a-4c31-a86a-738e3f1c17e7"
      },
      "execution_count": 36,
      "outputs": [
        {
          "output_type": "stream",
          "name": "stdout",
          "text": [
            "Number of proteins for AGN 190299 at 0.5 cutoff: 18\n",
            "Number of proteins for AGN 190299 at 1.0 cutoff: 1\n",
            "\n",
            "\n",
            "Number of proteins for Tazarotene1 at 0.5 cutoff: 23\n",
            "Number of proteins for Tazarotene1 at 1.0 cutoff: 4\n",
            "\n",
            "\n",
            "Number of proteins for Tazarotene2 at 0.5 cutoff: 30\n",
            "Number of proteins for Tazarotene2 at 1.0 cutoff: 6\n",
            "\n",
            "\n"
          ]
        }
      ]
    },
    {
      "cell_type": "code",
      "source": [
        "case4_example1_prots_g10['Tazarotene1'] & case4_example1_prots_g10['Tazarotene2']\n",
        "# that's really weird"
      ],
      "metadata": {
        "colab": {
          "base_uri": "https://localhost:8080/"
        },
        "id": "Ae-NozZfZSOd",
        "outputId": "7d018b9b-161a-421b-979d-256aeb28e6f3"
      },
      "execution_count": 37,
      "outputs": [
        {
          "output_type": "execute_result",
          "data": {
            "text/plain": [
              "set()"
            ]
          },
          "metadata": {},
          "execution_count": 37
        }
      ]
    },
    {
      "cell_type": "code",
      "source": [
        "case4_example1_prots_g05['Tazarotene1'] & case4_example1_prots_g05['Tazarotene2']\n",
        "# that's a bit better"
      ],
      "metadata": {
        "colab": {
          "base_uri": "https://localhost:8080/"
        },
        "id": "e1C5bEMWaIek",
        "outputId": "b2207e62-3e23-4102-ee18-bfad86c93ca8"
      },
      "execution_count": 38,
      "outputs": [
        {
          "output_type": "execute_result",
          "data": {
            "text/plain": [
              "{'CYP1A1', 'NRIP1', 'PLIN2'}"
            ]
          },
          "metadata": {},
          "execution_count": 38
        }
      ]
    },
    {
      "cell_type": "code",
      "source": [
        "case4_example1_prots_g05['AGN 190299'] & case4_example1_prots_g05['Tazarotene1']"
      ],
      "metadata": {
        "colab": {
          "base_uri": "https://localhost:8080/"
        },
        "id": "i11PJBSYV6Cs",
        "outputId": "bca6573b-3af0-4ecc-cfdb-c9410f91bd79"
      },
      "execution_count": 39,
      "outputs": [
        {
          "output_type": "execute_result",
          "data": {
            "text/plain": [
              "set()"
            ]
          },
          "metadata": {},
          "execution_count": 39
        }
      ]
    },
    {
      "cell_type": "code",
      "source": [
        "case4_example1_prots_g05['AGN 190299'] & case4_example1_prots_g05['Tazarotene2']"
      ],
      "metadata": {
        "colab": {
          "base_uri": "https://localhost:8080/"
        },
        "id": "aiSZ4T_0aQUS",
        "outputId": "9d1a9ae9-22ed-4dde-b86b-f716b87fa2f7"
      },
      "execution_count": 40,
      "outputs": [
        {
          "output_type": "execute_result",
          "data": {
            "text/plain": [
              "{'DHRS3', 'ELF3', 'KLK6', 'LTBP3'}"
            ]
          },
          "metadata": {},
          "execution_count": 40
        }
      ]
    },
    {
      "cell_type": "markdown",
      "source": [
        "So, for three compounds of which two are duplicates we have following:\n",
        "- duplicates does not have overlapping proteins at 1.0 log units cutoffs (absolute values)\n",
        "- duplicates does have some overlapping proteins at 0.5 log units cutoffs (absolute values)\n",
        "- \"AGN 190299\" that is a \"parent\" compound for Tazarotene does not have overlapping proteins with Tazarotene1, but does have overlapping proteins with Tazarotene2\n",
        "- A very strange issue... "
      ],
      "metadata": {
        "id": "bWiTskVYcSYl"
      }
    },
    {
      "cell_type": "markdown",
      "source": [
        "## HCT116 proteome"
      ],
      "metadata": {
        "id": "X8HIx1HbRWP7"
      }
    },
    {
      "cell_type": "code",
      "source": [
        "# compound is quit a hurricane\n",
        "dfs1_mlt[(dfs1_mlt['value_abs'] > 2) & (dfs1_mlt['variable'].str.contains('Nutlin3a'))]"
      ],
      "metadata": {
        "colab": {
          "base_uri": "https://localhost:8080/",
          "height": 423
        },
        "id": "ftRqn7TgqArf",
        "outputId": "ce8ad2ff-d35e-45fa-c61b-fefe177bc630"
      },
      "execution_count": 41,
      "outputs": [
        {
          "output_type": "execute_result",
          "data": {
            "text/plain": [
              "         Gene Name UniprotID       variable  value  value_abs\n",
              "7679319    ADAMTS7    Q9UKP4  Nutlin3a_MDM2   2.04       2.04\n",
              "7679563       ANLN    Q9NQW6  Nutlin3a_MDM2  -3.68       3.68\n",
              "7679668  ARHGAP11A    Q6P4F7  Nutlin3a_MDM2  -2.46       2.46\n",
              "7679672   ARHGAP19  Q14CB8-2  Nutlin3a_MDM2  -2.80       2.80\n",
              "7679708   ARHGEF39    Q8N4T4  Nutlin3a_MDM2  -2.30       2.30\n",
              "...            ...       ...            ...    ...        ...\n",
              "7688260      UBE2T    Q9NPD8  Nutlin3a_MDM2  -2.26       2.26\n",
              "7688318      UHRF1  Q96T88-2  Nutlin3a_MDM2  -2.19       2.19\n",
              "7688394      USP37    Q86T82  Nutlin3a_MDM2  -2.69       2.69\n",
              "7688581      WDR76    Q9H967  Nutlin3a_MDM2  -3.90       3.90\n",
              "7689103      ZWINT    O95229  Nutlin3a_MDM2  -3.13       3.13\n",
              "\n",
              "[125 rows x 5 columns]"
            ],
            "text/html": [
              "\n",
              "  <div id=\"df-f8233609-cca5-4486-9f16-8749546a0c4d\">\n",
              "    <div class=\"colab-df-container\">\n",
              "      <div>\n",
              "<style scoped>\n",
              "    .dataframe tbody tr th:only-of-type {\n",
              "        vertical-align: middle;\n",
              "    }\n",
              "\n",
              "    .dataframe tbody tr th {\n",
              "        vertical-align: top;\n",
              "    }\n",
              "\n",
              "    .dataframe thead th {\n",
              "        text-align: right;\n",
              "    }\n",
              "</style>\n",
              "<table border=\"1\" class=\"dataframe\">\n",
              "  <thead>\n",
              "    <tr style=\"text-align: right;\">\n",
              "      <th></th>\n",
              "      <th>Gene Name</th>\n",
              "      <th>UniprotID</th>\n",
              "      <th>variable</th>\n",
              "      <th>value</th>\n",
              "      <th>value_abs</th>\n",
              "    </tr>\n",
              "  </thead>\n",
              "  <tbody>\n",
              "    <tr>\n",
              "      <th>7679319</th>\n",
              "      <td>ADAMTS7</td>\n",
              "      <td>Q9UKP4</td>\n",
              "      <td>Nutlin3a_MDM2</td>\n",
              "      <td>2.04</td>\n",
              "      <td>2.04</td>\n",
              "    </tr>\n",
              "    <tr>\n",
              "      <th>7679563</th>\n",
              "      <td>ANLN</td>\n",
              "      <td>Q9NQW6</td>\n",
              "      <td>Nutlin3a_MDM2</td>\n",
              "      <td>-3.68</td>\n",
              "      <td>3.68</td>\n",
              "    </tr>\n",
              "    <tr>\n",
              "      <th>7679668</th>\n",
              "      <td>ARHGAP11A</td>\n",
              "      <td>Q6P4F7</td>\n",
              "      <td>Nutlin3a_MDM2</td>\n",
              "      <td>-2.46</td>\n",
              "      <td>2.46</td>\n",
              "    </tr>\n",
              "    <tr>\n",
              "      <th>7679672</th>\n",
              "      <td>ARHGAP19</td>\n",
              "      <td>Q14CB8-2</td>\n",
              "      <td>Nutlin3a_MDM2</td>\n",
              "      <td>-2.80</td>\n",
              "      <td>2.80</td>\n",
              "    </tr>\n",
              "    <tr>\n",
              "      <th>7679708</th>\n",
              "      <td>ARHGEF39</td>\n",
              "      <td>Q8N4T4</td>\n",
              "      <td>Nutlin3a_MDM2</td>\n",
              "      <td>-2.30</td>\n",
              "      <td>2.30</td>\n",
              "    </tr>\n",
              "    <tr>\n",
              "      <th>...</th>\n",
              "      <td>...</td>\n",
              "      <td>...</td>\n",
              "      <td>...</td>\n",
              "      <td>...</td>\n",
              "      <td>...</td>\n",
              "    </tr>\n",
              "    <tr>\n",
              "      <th>7688260</th>\n",
              "      <td>UBE2T</td>\n",
              "      <td>Q9NPD8</td>\n",
              "      <td>Nutlin3a_MDM2</td>\n",
              "      <td>-2.26</td>\n",
              "      <td>2.26</td>\n",
              "    </tr>\n",
              "    <tr>\n",
              "      <th>7688318</th>\n",
              "      <td>UHRF1</td>\n",
              "      <td>Q96T88-2</td>\n",
              "      <td>Nutlin3a_MDM2</td>\n",
              "      <td>-2.19</td>\n",
              "      <td>2.19</td>\n",
              "    </tr>\n",
              "    <tr>\n",
              "      <th>7688394</th>\n",
              "      <td>USP37</td>\n",
              "      <td>Q86T82</td>\n",
              "      <td>Nutlin3a_MDM2</td>\n",
              "      <td>-2.69</td>\n",
              "      <td>2.69</td>\n",
              "    </tr>\n",
              "    <tr>\n",
              "      <th>7688581</th>\n",
              "      <td>WDR76</td>\n",
              "      <td>Q9H967</td>\n",
              "      <td>Nutlin3a_MDM2</td>\n",
              "      <td>-3.90</td>\n",
              "      <td>3.90</td>\n",
              "    </tr>\n",
              "    <tr>\n",
              "      <th>7689103</th>\n",
              "      <td>ZWINT</td>\n",
              "      <td>O95229</td>\n",
              "      <td>Nutlin3a_MDM2</td>\n",
              "      <td>-3.13</td>\n",
              "      <td>3.13</td>\n",
              "    </tr>\n",
              "  </tbody>\n",
              "</table>\n",
              "<p>125 rows × 5 columns</p>\n",
              "</div>\n",
              "      <button class=\"colab-df-convert\" onclick=\"convertToInteractive('df-f8233609-cca5-4486-9f16-8749546a0c4d')\"\n",
              "              title=\"Convert this dataframe to an interactive table.\"\n",
              "              style=\"display:none;\">\n",
              "        \n",
              "  <svg xmlns=\"http://www.w3.org/2000/svg\" height=\"24px\"viewBox=\"0 0 24 24\"\n",
              "       width=\"24px\">\n",
              "    <path d=\"M0 0h24v24H0V0z\" fill=\"none\"/>\n",
              "    <path d=\"M18.56 5.44l.94 2.06.94-2.06 2.06-.94-2.06-.94-.94-2.06-.94 2.06-2.06.94zm-11 1L8.5 8.5l.94-2.06 2.06-.94-2.06-.94L8.5 2.5l-.94 2.06-2.06.94zm10 10l.94 2.06.94-2.06 2.06-.94-2.06-.94-.94-2.06-.94 2.06-2.06.94z\"/><path d=\"M17.41 7.96l-1.37-1.37c-.4-.4-.92-.59-1.43-.59-.52 0-1.04.2-1.43.59L10.3 9.45l-7.72 7.72c-.78.78-.78 2.05 0 2.83L4 21.41c.39.39.9.59 1.41.59.51 0 1.02-.2 1.41-.59l7.78-7.78 2.81-2.81c.8-.78.8-2.07 0-2.86zM5.41 20L4 18.59l7.72-7.72 1.47 1.35L5.41 20z\"/>\n",
              "  </svg>\n",
              "      </button>\n",
              "      \n",
              "  <style>\n",
              "    .colab-df-container {\n",
              "      display:flex;\n",
              "      flex-wrap:wrap;\n",
              "      gap: 12px;\n",
              "    }\n",
              "\n",
              "    .colab-df-convert {\n",
              "      background-color: #E8F0FE;\n",
              "      border: none;\n",
              "      border-radius: 50%;\n",
              "      cursor: pointer;\n",
              "      display: none;\n",
              "      fill: #1967D2;\n",
              "      height: 32px;\n",
              "      padding: 0 0 0 0;\n",
              "      width: 32px;\n",
              "    }\n",
              "\n",
              "    .colab-df-convert:hover {\n",
              "      background-color: #E2EBFA;\n",
              "      box-shadow: 0px 1px 2px rgba(60, 64, 67, 0.3), 0px 1px 3px 1px rgba(60, 64, 67, 0.15);\n",
              "      fill: #174EA6;\n",
              "    }\n",
              "\n",
              "    [theme=dark] .colab-df-convert {\n",
              "      background-color: #3B4455;\n",
              "      fill: #D2E3FC;\n",
              "    }\n",
              "\n",
              "    [theme=dark] .colab-df-convert:hover {\n",
              "      background-color: #434B5C;\n",
              "      box-shadow: 0px 1px 3px 1px rgba(0, 0, 0, 0.15);\n",
              "      filter: drop-shadow(0px 1px 2px rgba(0, 0, 0, 0.3));\n",
              "      fill: #FFFFFF;\n",
              "    }\n",
              "  </style>\n",
              "\n",
              "      <script>\n",
              "        const buttonEl =\n",
              "          document.querySelector('#df-f8233609-cca5-4486-9f16-8749546a0c4d button.colab-df-convert');\n",
              "        buttonEl.style.display =\n",
              "          google.colab.kernel.accessAllowed ? 'block' : 'none';\n",
              "\n",
              "        async function convertToInteractive(key) {\n",
              "          const element = document.querySelector('#df-f8233609-cca5-4486-9f16-8749546a0c4d');\n",
              "          const dataTable =\n",
              "            await google.colab.kernel.invokeFunction('convertToInteractive',\n",
              "                                                     [key], {});\n",
              "          if (!dataTable) return;\n",
              "\n",
              "          const docLinkHtml = 'Like what you see? Visit the ' +\n",
              "            '<a target=\"_blank\" href=https://colab.research.google.com/notebooks/data_table.ipynb>data table notebook</a>'\n",
              "            + ' to learn more about interactive tables.';\n",
              "          element.innerHTML = '';\n",
              "          dataTable['output_type'] = 'display_data';\n",
              "          await google.colab.output.renderOutput(dataTable, element);\n",
              "          const docLink = document.createElement('div');\n",
              "          docLink.innerHTML = docLinkHtml;\n",
              "          element.appendChild(docLink);\n",
              "        }\n",
              "      </script>\n",
              "    </div>\n",
              "  </div>\n",
              "  "
            ]
          },
          "metadata": {},
          "execution_count": 41
        }
      ]
    },
    {
      "cell_type": "code",
      "source": [
        "!wget -O cl_proteome.txt https://www.ebi.ac.uk/gxa/experiments-content/E-PROT-19/download/PROTEOMICS_BASELINE?geneQuery=%5B%5D&unit=parts+per+billion&cutoff=0.0&selectedColumnIds=g1%2Cg2%2Cg3%2Cg4%2Cg5&type=PROTEOMICS_BASELINE "
      ],
      "metadata": {
        "colab": {
          "base_uri": "https://localhost:8080/"
        },
        "id": "wrGhaCsppkEy",
        "outputId": "2c5682ae-ffbb-44cb-9e65-c2a3febd4872"
      },
      "execution_count": 42,
      "outputs": [
        {
          "output_type": "stream",
          "name": "stdout",
          "text": [
            "--2023-01-14 03:39:54--  https://www.ebi.ac.uk/gxa/experiments-content/E-PROT-19/download/PROTEOMICS_BASELINE?geneQuery=%5B%5D\n",
            "Resolving www.ebi.ac.uk (www.ebi.ac.uk)... 193.62.193.80\n",
            "Connecting to www.ebi.ac.uk (www.ebi.ac.uk)|193.62.193.80|:443... connected.\n",
            "HTTP request sent, awaiting response... 200 \n",
            "Length: unspecified [text/plain]\n",
            "Saving to: ‘cl_proteome.txt’\n",
            "\n",
            "cl_proteome.txt         [     <=>            ] 639.32K   566KB/s    in 1.1s    \n",
            "\n",
            "2023-01-14 03:39:56 (566 KB/s) - ‘cl_proteome.txt’ saved [654664]\n",
            "\n"
          ]
        }
      ]
    },
    {
      "cell_type": "code",
      "source": [
        "df_HCT116 = pd.read_csv('cl_proteome.txt', sep='\\t', skiprows=4)\n",
        "print(df_HCT116.shape)\n",
        "df_HCT116.head()"
      ],
      "metadata": {
        "colab": {
          "base_uri": "https://localhost:8080/",
          "height": 224
        },
        "id": "XO4RQWIxpyYP",
        "outputId": "d2f3de56-ace0-4a7c-a291-bbac2271f6d5"
      },
      "execution_count": 43,
      "outputs": [
        {
          "output_type": "stream",
          "name": "stdout",
          "text": [
            "(11536, 7)\n"
          ]
        },
        {
          "output_type": "execute_result",
          "data": {
            "text/plain": [
              "           Gene ID Gene Name     A549    HCT116      HeLa     MCF-7   SH-SY5Y\n",
              "0  ENSG00000000003    TSPAN6   3287.0    4202.0    5610.0     978.0    1105.0\n",
              "1  ENSG00000000419      DPM1  85916.0  116570.0  135471.0  173859.0  237237.0\n",
              "2  ENSG00000000457     SCYL3   9725.0    4903.0    1246.0    6427.0    9118.0\n",
              "3  ENSG00000000460  C1orf112   3912.0    5324.0    4790.0    2402.0   11578.0\n",
              "4  ENSG00000000971       CFH   3751.0      64.0    5107.0     558.0      55.0"
            ],
            "text/html": [
              "\n",
              "  <div id=\"df-3c30d721-306a-47ab-a4c9-711bd219f68b\">\n",
              "    <div class=\"colab-df-container\">\n",
              "      <div>\n",
              "<style scoped>\n",
              "    .dataframe tbody tr th:only-of-type {\n",
              "        vertical-align: middle;\n",
              "    }\n",
              "\n",
              "    .dataframe tbody tr th {\n",
              "        vertical-align: top;\n",
              "    }\n",
              "\n",
              "    .dataframe thead th {\n",
              "        text-align: right;\n",
              "    }\n",
              "</style>\n",
              "<table border=\"1\" class=\"dataframe\">\n",
              "  <thead>\n",
              "    <tr style=\"text-align: right;\">\n",
              "      <th></th>\n",
              "      <th>Gene ID</th>\n",
              "      <th>Gene Name</th>\n",
              "      <th>A549</th>\n",
              "      <th>HCT116</th>\n",
              "      <th>HeLa</th>\n",
              "      <th>MCF-7</th>\n",
              "      <th>SH-SY5Y</th>\n",
              "    </tr>\n",
              "  </thead>\n",
              "  <tbody>\n",
              "    <tr>\n",
              "      <th>0</th>\n",
              "      <td>ENSG00000000003</td>\n",
              "      <td>TSPAN6</td>\n",
              "      <td>3287.0</td>\n",
              "      <td>4202.0</td>\n",
              "      <td>5610.0</td>\n",
              "      <td>978.0</td>\n",
              "      <td>1105.0</td>\n",
              "    </tr>\n",
              "    <tr>\n",
              "      <th>1</th>\n",
              "      <td>ENSG00000000419</td>\n",
              "      <td>DPM1</td>\n",
              "      <td>85916.0</td>\n",
              "      <td>116570.0</td>\n",
              "      <td>135471.0</td>\n",
              "      <td>173859.0</td>\n",
              "      <td>237237.0</td>\n",
              "    </tr>\n",
              "    <tr>\n",
              "      <th>2</th>\n",
              "      <td>ENSG00000000457</td>\n",
              "      <td>SCYL3</td>\n",
              "      <td>9725.0</td>\n",
              "      <td>4903.0</td>\n",
              "      <td>1246.0</td>\n",
              "      <td>6427.0</td>\n",
              "      <td>9118.0</td>\n",
              "    </tr>\n",
              "    <tr>\n",
              "      <th>3</th>\n",
              "      <td>ENSG00000000460</td>\n",
              "      <td>C1orf112</td>\n",
              "      <td>3912.0</td>\n",
              "      <td>5324.0</td>\n",
              "      <td>4790.0</td>\n",
              "      <td>2402.0</td>\n",
              "      <td>11578.0</td>\n",
              "    </tr>\n",
              "    <tr>\n",
              "      <th>4</th>\n",
              "      <td>ENSG00000000971</td>\n",
              "      <td>CFH</td>\n",
              "      <td>3751.0</td>\n",
              "      <td>64.0</td>\n",
              "      <td>5107.0</td>\n",
              "      <td>558.0</td>\n",
              "      <td>55.0</td>\n",
              "    </tr>\n",
              "  </tbody>\n",
              "</table>\n",
              "</div>\n",
              "      <button class=\"colab-df-convert\" onclick=\"convertToInteractive('df-3c30d721-306a-47ab-a4c9-711bd219f68b')\"\n",
              "              title=\"Convert this dataframe to an interactive table.\"\n",
              "              style=\"display:none;\">\n",
              "        \n",
              "  <svg xmlns=\"http://www.w3.org/2000/svg\" height=\"24px\"viewBox=\"0 0 24 24\"\n",
              "       width=\"24px\">\n",
              "    <path d=\"M0 0h24v24H0V0z\" fill=\"none\"/>\n",
              "    <path d=\"M18.56 5.44l.94 2.06.94-2.06 2.06-.94-2.06-.94-.94-2.06-.94 2.06-2.06.94zm-11 1L8.5 8.5l.94-2.06 2.06-.94-2.06-.94L8.5 2.5l-.94 2.06-2.06.94zm10 10l.94 2.06.94-2.06 2.06-.94-2.06-.94-.94-2.06-.94 2.06-2.06.94z\"/><path d=\"M17.41 7.96l-1.37-1.37c-.4-.4-.92-.59-1.43-.59-.52 0-1.04.2-1.43.59L10.3 9.45l-7.72 7.72c-.78.78-.78 2.05 0 2.83L4 21.41c.39.39.9.59 1.41.59.51 0 1.02-.2 1.41-.59l7.78-7.78 2.81-2.81c.8-.78.8-2.07 0-2.86zM5.41 20L4 18.59l7.72-7.72 1.47 1.35L5.41 20z\"/>\n",
              "  </svg>\n",
              "      </button>\n",
              "      \n",
              "  <style>\n",
              "    .colab-df-container {\n",
              "      display:flex;\n",
              "      flex-wrap:wrap;\n",
              "      gap: 12px;\n",
              "    }\n",
              "\n",
              "    .colab-df-convert {\n",
              "      background-color: #E8F0FE;\n",
              "      border: none;\n",
              "      border-radius: 50%;\n",
              "      cursor: pointer;\n",
              "      display: none;\n",
              "      fill: #1967D2;\n",
              "      height: 32px;\n",
              "      padding: 0 0 0 0;\n",
              "      width: 32px;\n",
              "    }\n",
              "\n",
              "    .colab-df-convert:hover {\n",
              "      background-color: #E2EBFA;\n",
              "      box-shadow: 0px 1px 2px rgba(60, 64, 67, 0.3), 0px 1px 3px 1px rgba(60, 64, 67, 0.15);\n",
              "      fill: #174EA6;\n",
              "    }\n",
              "\n",
              "    [theme=dark] .colab-df-convert {\n",
              "      background-color: #3B4455;\n",
              "      fill: #D2E3FC;\n",
              "    }\n",
              "\n",
              "    [theme=dark] .colab-df-convert:hover {\n",
              "      background-color: #434B5C;\n",
              "      box-shadow: 0px 1px 3px 1px rgba(0, 0, 0, 0.15);\n",
              "      filter: drop-shadow(0px 1px 2px rgba(0, 0, 0, 0.3));\n",
              "      fill: #FFFFFF;\n",
              "    }\n",
              "  </style>\n",
              "\n",
              "      <script>\n",
              "        const buttonEl =\n",
              "          document.querySelector('#df-3c30d721-306a-47ab-a4c9-711bd219f68b button.colab-df-convert');\n",
              "        buttonEl.style.display =\n",
              "          google.colab.kernel.accessAllowed ? 'block' : 'none';\n",
              "\n",
              "        async function convertToInteractive(key) {\n",
              "          const element = document.querySelector('#df-3c30d721-306a-47ab-a4c9-711bd219f68b');\n",
              "          const dataTable =\n",
              "            await google.colab.kernel.invokeFunction('convertToInteractive',\n",
              "                                                     [key], {});\n",
              "          if (!dataTable) return;\n",
              "\n",
              "          const docLinkHtml = 'Like what you see? Visit the ' +\n",
              "            '<a target=\"_blank\" href=https://colab.research.google.com/notebooks/data_table.ipynb>data table notebook</a>'\n",
              "            + ' to learn more about interactive tables.';\n",
              "          element.innerHTML = '';\n",
              "          dataTable['output_type'] = 'display_data';\n",
              "          await google.colab.output.renderOutput(dataTable, element);\n",
              "          const docLink = document.createElement('div');\n",
              "          docLink.innerHTML = docLinkHtml;\n",
              "          element.appendChild(docLink);\n",
              "        }\n",
              "      </script>\n",
              "    </div>\n",
              "  </div>\n",
              "  "
            ]
          },
          "metadata": {},
          "execution_count": 43
        }
      ]
    },
    {
      "cell_type": "code",
      "source": [
        "df_HCT116[df_HCT116['Gene Name'].str.contains('ADR')]"
      ],
      "metadata": {
        "colab": {
          "base_uri": "https://localhost:8080/",
          "height": 143
        },
        "id": "LUfihPdxq2nb",
        "outputId": "b21914d1-191f-4c96-8d8a-61a9ba7ae011"
      },
      "execution_count": 44,
      "outputs": [
        {
          "output_type": "execute_result",
          "data": {
            "text/plain": [
              "              Gene ID Gene Name      A549   HCT116      HeLa     MCF-7  \\\n",
              "4588  ENSG00000130706     ADRM1  144803.0  99441.0  171824.0  159340.0   \n",
              "6625  ENSG00000150594    ADRA2A       NaN      NaN    2415.0       NaN   \n",
              "6922  ENSG00000154639     CXADR   39120.0  33064.0   34247.0     267.0   \n",
              "\n",
              "       SH-SY5Y  \n",
              "4588  114771.0  \n",
              "6625       NaN  \n",
              "6922   28731.0  "
            ],
            "text/html": [
              "\n",
              "  <div id=\"df-734757f1-5f10-481d-bf8b-40800f361bc5\">\n",
              "    <div class=\"colab-df-container\">\n",
              "      <div>\n",
              "<style scoped>\n",
              "    .dataframe tbody tr th:only-of-type {\n",
              "        vertical-align: middle;\n",
              "    }\n",
              "\n",
              "    .dataframe tbody tr th {\n",
              "        vertical-align: top;\n",
              "    }\n",
              "\n",
              "    .dataframe thead th {\n",
              "        text-align: right;\n",
              "    }\n",
              "</style>\n",
              "<table border=\"1\" class=\"dataframe\">\n",
              "  <thead>\n",
              "    <tr style=\"text-align: right;\">\n",
              "      <th></th>\n",
              "      <th>Gene ID</th>\n",
              "      <th>Gene Name</th>\n",
              "      <th>A549</th>\n",
              "      <th>HCT116</th>\n",
              "      <th>HeLa</th>\n",
              "      <th>MCF-7</th>\n",
              "      <th>SH-SY5Y</th>\n",
              "    </tr>\n",
              "  </thead>\n",
              "  <tbody>\n",
              "    <tr>\n",
              "      <th>4588</th>\n",
              "      <td>ENSG00000130706</td>\n",
              "      <td>ADRM1</td>\n",
              "      <td>144803.0</td>\n",
              "      <td>99441.0</td>\n",
              "      <td>171824.0</td>\n",
              "      <td>159340.0</td>\n",
              "      <td>114771.0</td>\n",
              "    </tr>\n",
              "    <tr>\n",
              "      <th>6625</th>\n",
              "      <td>ENSG00000150594</td>\n",
              "      <td>ADRA2A</td>\n",
              "      <td>NaN</td>\n",
              "      <td>NaN</td>\n",
              "      <td>2415.0</td>\n",
              "      <td>NaN</td>\n",
              "      <td>NaN</td>\n",
              "    </tr>\n",
              "    <tr>\n",
              "      <th>6922</th>\n",
              "      <td>ENSG00000154639</td>\n",
              "      <td>CXADR</td>\n",
              "      <td>39120.0</td>\n",
              "      <td>33064.0</td>\n",
              "      <td>34247.0</td>\n",
              "      <td>267.0</td>\n",
              "      <td>28731.0</td>\n",
              "    </tr>\n",
              "  </tbody>\n",
              "</table>\n",
              "</div>\n",
              "      <button class=\"colab-df-convert\" onclick=\"convertToInteractive('df-734757f1-5f10-481d-bf8b-40800f361bc5')\"\n",
              "              title=\"Convert this dataframe to an interactive table.\"\n",
              "              style=\"display:none;\">\n",
              "        \n",
              "  <svg xmlns=\"http://www.w3.org/2000/svg\" height=\"24px\"viewBox=\"0 0 24 24\"\n",
              "       width=\"24px\">\n",
              "    <path d=\"M0 0h24v24H0V0z\" fill=\"none\"/>\n",
              "    <path d=\"M18.56 5.44l.94 2.06.94-2.06 2.06-.94-2.06-.94-.94-2.06-.94 2.06-2.06.94zm-11 1L8.5 8.5l.94-2.06 2.06-.94-2.06-.94L8.5 2.5l-.94 2.06-2.06.94zm10 10l.94 2.06.94-2.06 2.06-.94-2.06-.94-.94-2.06-.94 2.06-2.06.94z\"/><path d=\"M17.41 7.96l-1.37-1.37c-.4-.4-.92-.59-1.43-.59-.52 0-1.04.2-1.43.59L10.3 9.45l-7.72 7.72c-.78.78-.78 2.05 0 2.83L4 21.41c.39.39.9.59 1.41.59.51 0 1.02-.2 1.41-.59l7.78-7.78 2.81-2.81c.8-.78.8-2.07 0-2.86zM5.41 20L4 18.59l7.72-7.72 1.47 1.35L5.41 20z\"/>\n",
              "  </svg>\n",
              "      </button>\n",
              "      \n",
              "  <style>\n",
              "    .colab-df-container {\n",
              "      display:flex;\n",
              "      flex-wrap:wrap;\n",
              "      gap: 12px;\n",
              "    }\n",
              "\n",
              "    .colab-df-convert {\n",
              "      background-color: #E8F0FE;\n",
              "      border: none;\n",
              "      border-radius: 50%;\n",
              "      cursor: pointer;\n",
              "      display: none;\n",
              "      fill: #1967D2;\n",
              "      height: 32px;\n",
              "      padding: 0 0 0 0;\n",
              "      width: 32px;\n",
              "    }\n",
              "\n",
              "    .colab-df-convert:hover {\n",
              "      background-color: #E2EBFA;\n",
              "      box-shadow: 0px 1px 2px rgba(60, 64, 67, 0.3), 0px 1px 3px 1px rgba(60, 64, 67, 0.15);\n",
              "      fill: #174EA6;\n",
              "    }\n",
              "\n",
              "    [theme=dark] .colab-df-convert {\n",
              "      background-color: #3B4455;\n",
              "      fill: #D2E3FC;\n",
              "    }\n",
              "\n",
              "    [theme=dark] .colab-df-convert:hover {\n",
              "      background-color: #434B5C;\n",
              "      box-shadow: 0px 1px 3px 1px rgba(0, 0, 0, 0.15);\n",
              "      filter: drop-shadow(0px 1px 2px rgba(0, 0, 0, 0.3));\n",
              "      fill: #FFFFFF;\n",
              "    }\n",
              "  </style>\n",
              "\n",
              "      <script>\n",
              "        const buttonEl =\n",
              "          document.querySelector('#df-734757f1-5f10-481d-bf8b-40800f361bc5 button.colab-df-convert');\n",
              "        buttonEl.style.display =\n",
              "          google.colab.kernel.accessAllowed ? 'block' : 'none';\n",
              "\n",
              "        async function convertToInteractive(key) {\n",
              "          const element = document.querySelector('#df-734757f1-5f10-481d-bf8b-40800f361bc5');\n",
              "          const dataTable =\n",
              "            await google.colab.kernel.invokeFunction('convertToInteractive',\n",
              "                                                     [key], {});\n",
              "          if (!dataTable) return;\n",
              "\n",
              "          const docLinkHtml = 'Like what you see? Visit the ' +\n",
              "            '<a target=\"_blank\" href=https://colab.research.google.com/notebooks/data_table.ipynb>data table notebook</a>'\n",
              "            + ' to learn more about interactive tables.';\n",
              "          element.innerHTML = '';\n",
              "          dataTable['output_type'] = 'display_data';\n",
              "          await google.colab.output.renderOutput(dataTable, element);\n",
              "          const docLink = document.createElement('div');\n",
              "          docLink.innerHTML = docLinkHtml;\n",
              "          element.appendChild(docLink);\n",
              "        }\n",
              "      </script>\n",
              "    </div>\n",
              "  </div>\n",
              "  "
            ]
          },
          "metadata": {},
          "execution_count": 44
        }
      ]
    },
    {
      "cell_type": "code",
      "source": [
        "df_HCT116[df_HCT116['Gene Name'].str.contains('RAR')]"
      ],
      "metadata": {
        "id": "102l0hxrlWPD",
        "outputId": "1299fcfe-bde8-4574-cf81-193ae5b08da3",
        "colab": {
          "base_uri": "https://localhost:8080/",
          "height": 175
        }
      },
      "execution_count": 45,
      "outputs": [
        {
          "output_type": "execute_result",
          "data": {
            "text/plain": [
              "              Gene ID Gene Name      A549    HCT116      HeLa     MCF-7  \\\n",
              "3134  ENSG00000113643     RARS1  375832.0  412980.0  303648.0  406507.0   \n",
              "4710  ENSG00000131759      RARA     965.0    2202.0    1114.0    6409.0   \n",
              "6318  ENSG00000146282     RARS2   12699.0   16485.0   15949.0   13287.0   \n",
              "9017  ENSG00000172819      RARG    1324.0    5268.0     979.0   10221.0   \n",
              "\n",
              "       SH-SY5Y  \n",
              "3134  473539.0  \n",
              "4710    3164.0  \n",
              "6318   21583.0  \n",
              "9017    2870.0  "
            ],
            "text/html": [
              "\n",
              "  <div id=\"df-0916d334-23a7-420f-9a37-127750e30a69\">\n",
              "    <div class=\"colab-df-container\">\n",
              "      <div>\n",
              "<style scoped>\n",
              "    .dataframe tbody tr th:only-of-type {\n",
              "        vertical-align: middle;\n",
              "    }\n",
              "\n",
              "    .dataframe tbody tr th {\n",
              "        vertical-align: top;\n",
              "    }\n",
              "\n",
              "    .dataframe thead th {\n",
              "        text-align: right;\n",
              "    }\n",
              "</style>\n",
              "<table border=\"1\" class=\"dataframe\">\n",
              "  <thead>\n",
              "    <tr style=\"text-align: right;\">\n",
              "      <th></th>\n",
              "      <th>Gene ID</th>\n",
              "      <th>Gene Name</th>\n",
              "      <th>A549</th>\n",
              "      <th>HCT116</th>\n",
              "      <th>HeLa</th>\n",
              "      <th>MCF-7</th>\n",
              "      <th>SH-SY5Y</th>\n",
              "    </tr>\n",
              "  </thead>\n",
              "  <tbody>\n",
              "    <tr>\n",
              "      <th>3134</th>\n",
              "      <td>ENSG00000113643</td>\n",
              "      <td>RARS1</td>\n",
              "      <td>375832.0</td>\n",
              "      <td>412980.0</td>\n",
              "      <td>303648.0</td>\n",
              "      <td>406507.0</td>\n",
              "      <td>473539.0</td>\n",
              "    </tr>\n",
              "    <tr>\n",
              "      <th>4710</th>\n",
              "      <td>ENSG00000131759</td>\n",
              "      <td>RARA</td>\n",
              "      <td>965.0</td>\n",
              "      <td>2202.0</td>\n",
              "      <td>1114.0</td>\n",
              "      <td>6409.0</td>\n",
              "      <td>3164.0</td>\n",
              "    </tr>\n",
              "    <tr>\n",
              "      <th>6318</th>\n",
              "      <td>ENSG00000146282</td>\n",
              "      <td>RARS2</td>\n",
              "      <td>12699.0</td>\n",
              "      <td>16485.0</td>\n",
              "      <td>15949.0</td>\n",
              "      <td>13287.0</td>\n",
              "      <td>21583.0</td>\n",
              "    </tr>\n",
              "    <tr>\n",
              "      <th>9017</th>\n",
              "      <td>ENSG00000172819</td>\n",
              "      <td>RARG</td>\n",
              "      <td>1324.0</td>\n",
              "      <td>5268.0</td>\n",
              "      <td>979.0</td>\n",
              "      <td>10221.0</td>\n",
              "      <td>2870.0</td>\n",
              "    </tr>\n",
              "  </tbody>\n",
              "</table>\n",
              "</div>\n",
              "      <button class=\"colab-df-convert\" onclick=\"convertToInteractive('df-0916d334-23a7-420f-9a37-127750e30a69')\"\n",
              "              title=\"Convert this dataframe to an interactive table.\"\n",
              "              style=\"display:none;\">\n",
              "        \n",
              "  <svg xmlns=\"http://www.w3.org/2000/svg\" height=\"24px\"viewBox=\"0 0 24 24\"\n",
              "       width=\"24px\">\n",
              "    <path d=\"M0 0h24v24H0V0z\" fill=\"none\"/>\n",
              "    <path d=\"M18.56 5.44l.94 2.06.94-2.06 2.06-.94-2.06-.94-.94-2.06-.94 2.06-2.06.94zm-11 1L8.5 8.5l.94-2.06 2.06-.94-2.06-.94L8.5 2.5l-.94 2.06-2.06.94zm10 10l.94 2.06.94-2.06 2.06-.94-2.06-.94-.94-2.06-.94 2.06-2.06.94z\"/><path d=\"M17.41 7.96l-1.37-1.37c-.4-.4-.92-.59-1.43-.59-.52 0-1.04.2-1.43.59L10.3 9.45l-7.72 7.72c-.78.78-.78 2.05 0 2.83L4 21.41c.39.39.9.59 1.41.59.51 0 1.02-.2 1.41-.59l7.78-7.78 2.81-2.81c.8-.78.8-2.07 0-2.86zM5.41 20L4 18.59l7.72-7.72 1.47 1.35L5.41 20z\"/>\n",
              "  </svg>\n",
              "      </button>\n",
              "      \n",
              "  <style>\n",
              "    .colab-df-container {\n",
              "      display:flex;\n",
              "      flex-wrap:wrap;\n",
              "      gap: 12px;\n",
              "    }\n",
              "\n",
              "    .colab-df-convert {\n",
              "      background-color: #E8F0FE;\n",
              "      border: none;\n",
              "      border-radius: 50%;\n",
              "      cursor: pointer;\n",
              "      display: none;\n",
              "      fill: #1967D2;\n",
              "      height: 32px;\n",
              "      padding: 0 0 0 0;\n",
              "      width: 32px;\n",
              "    }\n",
              "\n",
              "    .colab-df-convert:hover {\n",
              "      background-color: #E2EBFA;\n",
              "      box-shadow: 0px 1px 2px rgba(60, 64, 67, 0.3), 0px 1px 3px 1px rgba(60, 64, 67, 0.15);\n",
              "      fill: #174EA6;\n",
              "    }\n",
              "\n",
              "    [theme=dark] .colab-df-convert {\n",
              "      background-color: #3B4455;\n",
              "      fill: #D2E3FC;\n",
              "    }\n",
              "\n",
              "    [theme=dark] .colab-df-convert:hover {\n",
              "      background-color: #434B5C;\n",
              "      box-shadow: 0px 1px 3px 1px rgba(0, 0, 0, 0.15);\n",
              "      filter: drop-shadow(0px 1px 2px rgba(0, 0, 0, 0.3));\n",
              "      fill: #FFFFFF;\n",
              "    }\n",
              "  </style>\n",
              "\n",
              "      <script>\n",
              "        const buttonEl =\n",
              "          document.querySelector('#df-0916d334-23a7-420f-9a37-127750e30a69 button.colab-df-convert');\n",
              "        buttonEl.style.display =\n",
              "          google.colab.kernel.accessAllowed ? 'block' : 'none';\n",
              "\n",
              "        async function convertToInteractive(key) {\n",
              "          const element = document.querySelector('#df-0916d334-23a7-420f-9a37-127750e30a69');\n",
              "          const dataTable =\n",
              "            await google.colab.kernel.invokeFunction('convertToInteractive',\n",
              "                                                     [key], {});\n",
              "          if (!dataTable) return;\n",
              "\n",
              "          const docLinkHtml = 'Like what you see? Visit the ' +\n",
              "            '<a target=\"_blank\" href=https://colab.research.google.com/notebooks/data_table.ipynb>data table notebook</a>'\n",
              "            + ' to learn more about interactive tables.';\n",
              "          element.innerHTML = '';\n",
              "          dataTable['output_type'] = 'display_data';\n",
              "          await google.colab.output.renderOutput(dataTable, element);\n",
              "          const docLink = document.createElement('div');\n",
              "          docLink.innerHTML = docLinkHtml;\n",
              "          element.appendChild(docLink);\n",
              "        }\n",
              "      </script>\n",
              "    </div>\n",
              "  </div>\n",
              "  "
            ]
          },
          "metadata": {},
          "execution_count": 45
        }
      ]
    }
  ]
}