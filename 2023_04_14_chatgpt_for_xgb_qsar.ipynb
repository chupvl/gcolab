{
  "nbformat": 4,
  "nbformat_minor": 0,
  "metadata": {
    "colab": {
      "provenance": [],
      "authorship_tag": "ABX9TyM9u3W9BIZaUR8+XW6JsNKE",
      "include_colab_link": true
    },
    "kernelspec": {
      "name": "python3",
      "display_name": "Python 3"
    },
    "language_info": {
      "name": "python"
    }
  },
  "cells": [
    {
      "cell_type": "markdown",
      "metadata": {
        "id": "view-in-github",
        "colab_type": "text"
      },
      "source": [
        "<a href=\"https://colab.research.google.com/github/chupvl/gcolab/blob/main/2023_04_14_chatgpt_for_xgb_qsar.ipynb\" target=\"_parent\"><img src=\"https://colab.research.google.com/assets/colab-badge.svg\" alt=\"Open In Colab\"/></a>"
      ]
    },
    {
      "cell_type": "markdown",
      "source": [
        "# Hey ChatGPT write me a xgboost-based classification model for compounds using Morgan fingerprints"
      ],
      "metadata": {
        "id": "AvbRp1AZiUwn"
      }
    },
    {
      "cell_type": "markdown",
      "source": [
        "Sure, I can help you create an XGBoost-based classification model for compounds using Morgan fingerprints. Below is an example of a basic script in Python, using RDKit for generating Morgan fingerprints and the XGBoost library for creating the classification model.\n",
        "\n",
        "Assuming you have a dataset containing SMILES strings and their corresponding labels (1 for active, 0 for inactive), you can follow the steps below:\n",
        "\n",
        "First, install the required packages:"
      ],
      "metadata": {
        "id": "6CZ7XWoCkfTR"
      }
    },
    {
      "cell_type": "code",
      "execution_count": 1,
      "metadata": {
        "colab": {
          "base_uri": "https://localhost:8080/"
        },
        "id": "WROjGwWyiMM4",
        "outputId": "87703de1-5c74-433f-9d2a-ca8db534b266"
      },
      "outputs": [
        {
          "output_type": "stream",
          "name": "stdout",
          "text": [
            "Looking in indexes: https://pypi.org/simple, https://us-python.pkg.dev/colab-wheels/public/simple/\n",
            "Requirement already satisfied: numpy in /usr/local/lib/python3.9/dist-packages (1.22.4)\n",
            "Requirement already satisfied: pandas in /usr/local/lib/python3.9/dist-packages (1.5.3)\n",
            "Collecting rdkit\n",
            "  Downloading rdkit-2022.9.5-cp39-cp39-manylinux_2_17_x86_64.manylinux2014_x86_64.whl (29.4 MB)\n",
            "\u001b[2K     \u001b[90m━━━━━━━━━━━━━━━━━━━━━━━━━━━━━━━━━━━━━━━━\u001b[0m \u001b[32m29.4/29.4 MB\u001b[0m \u001b[31m33.1 MB/s\u001b[0m eta \u001b[36m0:00:00\u001b[0m\n",
            "\u001b[?25hRequirement already satisfied: xgboost in /usr/local/lib/python3.9/dist-packages (1.7.5)\n",
            "Requirement already satisfied: scikit-learn in /usr/local/lib/python3.9/dist-packages (1.2.2)\n",
            "Requirement already satisfied: pytz>=2020.1 in /usr/local/lib/python3.9/dist-packages (from pandas) (2022.7.1)\n",
            "Requirement already satisfied: python-dateutil>=2.8.1 in /usr/local/lib/python3.9/dist-packages (from pandas) (2.8.2)\n",
            "Requirement already satisfied: Pillow in /usr/local/lib/python3.9/dist-packages (from rdkit) (8.4.0)\n",
            "Requirement already satisfied: scipy in /usr/local/lib/python3.9/dist-packages (from xgboost) (1.10.1)\n",
            "Requirement already satisfied: threadpoolctl>=2.0.0 in /usr/local/lib/python3.9/dist-packages (from scikit-learn) (3.1.0)\n",
            "Requirement already satisfied: joblib>=1.1.1 in /usr/local/lib/python3.9/dist-packages (from scikit-learn) (1.2.0)\n",
            "Requirement already satisfied: six>=1.5 in /usr/local/lib/python3.9/dist-packages (from python-dateutil>=2.8.1->pandas) (1.16.0)\n",
            "Installing collected packages: rdkit\n",
            "Successfully installed rdkit-2022.9.5\n"
          ]
        }
      ],
      "source": [
        "!pip install numpy pandas rdkit xgboost scikit-learn"
      ]
    },
    {
      "cell_type": "markdown",
      "source": [
        "Create a Python script for the XGBoost classifier with Morgan fingerprints:"
      ],
      "metadata": {
        "id": "UG0MukGWki_k"
      }
    },
    {
      "cell_type": "code",
      "source": [
        "import numpy as np\n",
        "import pandas as pd\n",
        "from rdkit import Chem\n",
        "from rdkit.Chem import AllChem\n",
        "from sklearn.model_selection import train_test_split\n",
        "from sklearn.metrics import accuracy_score, confusion_matrix\n",
        "import xgboost as xgb"
      ],
      "metadata": {
        "id": "ScN7Ndf1iPaF"
      },
      "execution_count": 2,
      "outputs": []
    },
    {
      "cell_type": "code",
      "source": [
        "def generate_morgan_fingerprints(smiles_list, radius, nBits):\n",
        "    fps = []\n",
        "    for smiles in smiles_list:\n",
        "        mol = Chem.MolFromSmiles(smiles)\n",
        "        fp = AllChem.GetMorganFingerprintAsBitVect(mol, radius, nBits=nBits)\n",
        "        fps.append(np.array(fp))\n",
        "    return np.array(fps)"
      ],
      "metadata": {
        "id": "P3PeCsTVie2u"
      },
      "execution_count": 3,
      "outputs": []
    },
    {
      "cell_type": "code",
      "source": [
        "def main():\n",
        "    # Load your dataset\n",
        "    # data = pd.read_csv('your_dataset.csv')\n",
        "    # smiles_list = data['smiles'].tolist()\n",
        "    # labels = data['label'].tolist()\n",
        "\n",
        "    # Example data\n",
        "    smiles_list = ['CCO', 'CCN', 'CCBr']\n",
        "    labels = [1, 0, 1]\n",
        "\n",
        "    # Generate Morgan fingerprints\n",
        "    radius = 2\n",
        "    nBits = 2048\n",
        "    fingerprints = generate_morgan_fingerprints(smiles_list, radius, nBits)\n",
        "\n",
        "    # Split the dataset into training and test sets\n",
        "    X_train, X_test, y_train, y_test = train_test_split(fingerprints, labels, test_size=0.2, random_state=42)\n",
        "\n",
        "    # Train the XGBoost classifier\n",
        "    model = xgb.XGBClassifier()\n",
        "    model.fit(X_train, y_train)\n",
        "\n",
        "    # Predict the test set and evaluate the performance\n",
        "    y_pred = model.predict(X_test)\n",
        "    accuracy = accuracy_score(y_test, y_pred)\n",
        "    cm = confusion_matrix(y_test, y_pred)\n",
        "\n",
        "    print(\"Accuracy:\", accuracy)\n",
        "    print(\"Confusion Matrix:\", cm)\n",
        "\n",
        "if __name__ == \"__main__\":\n",
        "    main()"
      ],
      "metadata": {
        "colab": {
          "base_uri": "https://localhost:8080/"
        },
        "id": "6lNTvN-Mii74",
        "outputId": "23d0fd51-ea67-425d-9ee2-054381291213"
      },
      "execution_count": 4,
      "outputs": [
        {
          "output_type": "stream",
          "name": "stdout",
          "text": [
            "Accuracy: 0.0\n",
            "Confusion Matrix: [[0 0]\n",
            " [1 0]]\n"
          ]
        }
      ]
    },
    {
      "cell_type": "markdown",
      "source": [
        "This script demonstrates how to generate Morgan fingerprints from SMILES strings, split the dataset into training and test sets, train an XGBoost classifier, and evaluate its performance using accuracy and confusion matrix.\n",
        "\n",
        "Please note that this is a basic example, and you should adjust it to your specific dataset and requirements. Additionally, you may want to consider fine-tuning the XGBoost hyperparameters to improve the model's performance."
      ],
      "metadata": {
        "id": "Bay-_qkrknPd"
      }
    },
    {
      "cell_type": "markdown",
      "source": [
        "# Great! Can you please add also various descriptors like MW, logP and alike and combined them with Morgan fingerprint?"
      ],
      "metadata": {
        "id": "t0lb2bYKjbhw"
      }
    },
    {
      "cell_type": "markdown",
      "source": [
        "Certainly! You can calculate various molecular descriptors using RDKit, such as molecular weight (MW) and octanol-water partition coefficient (logP). In the following example, I'll show you how to calculate these descriptors and combine them with the Morgan fingerprints:\n",
        "\n"
      ],
      "metadata": {
        "id": "s11wx8askrDG"
      }
    },
    {
      "cell_type": "code",
      "source": [
        "import numpy as np\n",
        "import pandas as pd\n",
        "from rdkit import Chem\n",
        "from rdkit.Chem import AllChem, Descriptors\n",
        "from sklearn.model_selection import train_test_split\n",
        "from sklearn.metrics import accuracy_score, confusion_matrix\n",
        "import xgboost as xgb\n",
        "\n",
        "def generate_morgan_fingerprints_and_descriptors(smiles_list, radius, nBits):\n",
        "    fps_and_descriptors = []\n",
        "    for smiles in smiles_list:\n",
        "        mol = Chem.MolFromSmiles(smiles)\n",
        "        fp = AllChem.GetMorganFingerprintAsBitVect(mol, radius, nBits=nBits)\n",
        "\n",
        "        # Calculate molecular descriptors\n",
        "        mw = Descriptors.MolWt(mol)\n",
        "        logp = Descriptors.MolLogP(mol)\n",
        "        num_h_donors = Descriptors.NumHDonors(mol)\n",
        "        num_h_acceptors = Descriptors.NumHAcceptors(mol)\n",
        "\n",
        "        # Combine Morgan fingerprints and descriptors\n",
        "        combined_features = np.concatenate((fp, [mw, logp, num_h_donors, num_h_acceptors]))\n",
        "        fps_and_descriptors.append(combined_features)\n",
        "    return np.array(fps_and_descriptors)\n",
        "\n",
        "def main():\n",
        "    # Load your dataset\n",
        "    # data = pd.read_csv('your_dataset.csv')\n",
        "    # smiles_list = data['smiles'].tolist()\n",
        "    # labels = data['label'].tolist()\n",
        "\n",
        "    # Example data\n",
        "    smiles_list = ['CCO', 'CCN', 'CCBr']\n",
        "    labels = [1, 0, 1]\n",
        "\n",
        "    # Generate Morgan fingerprints and descriptors\n",
        "    radius = 2\n",
        "    nBits = 2048\n",
        "    features = generate_morgan_fingerprints_and_descriptors(smiles_list, radius, nBits)\n",
        "\n",
        "    # Split the dataset into training and test sets\n",
        "    X_train, X_test, y_train, y_test = train_test_split(features, labels, test_size=0.2, random_state=42)\n",
        "\n",
        "    # Train the XGBoost classifier\n",
        "    model = xgb.XGBClassifier()\n",
        "    model.fit(X_train, y_train)\n",
        "\n",
        "    # Predict the test set and evaluate the performance\n",
        "    y_pred = model.predict(X_test)\n",
        "    accuracy = accuracy_score(y_test, y_pred)\n",
        "    cm = confusion_matrix(y_test, y_pred)\n",
        "\n",
        "    print(\"Accuracy:\", accuracy)\n",
        "    print(\"Confusion Matrix:\", cm)\n",
        "\n",
        "if __name__ == \"__main__\":\n",
        "    main()\n"
      ],
      "metadata": {
        "colab": {
          "base_uri": "https://localhost:8080/"
        },
        "id": "dYueGkjfkDG0",
        "outputId": "47f912ed-6cae-4ca0-dfcb-a71f49765187"
      },
      "execution_count": 5,
      "outputs": [
        {
          "output_type": "stream",
          "name": "stdout",
          "text": [
            "Accuracy: 0.0\n",
            "Confusion Matrix: [[0 0]\n",
            " [1 0]]\n"
          ]
        }
      ]
    },
    {
      "cell_type": "markdown",
      "source": [
        "# Fantastic! Thank you! But can you use rdkit.Chem.rdMolDescriptors module instead of rdkit.Chem.Descriptors, and please use all all possible descriptors \n"
      ],
      "metadata": {
        "id": "0fVlSZfAkBwN"
      }
    },
    {
      "cell_type": "markdown",
      "source": [
        "Sure, I can modify the script to use the rdkit.Chem.rdMolDescriptors module and calculate all available descriptors. The rdMolDescriptors module provides more descriptors compared to the rdkit.Chem.Descriptors. Here's the updated script:"
      ],
      "metadata": {
        "id": "V-zGrep6kyJK"
      }
    },
    {
      "cell_type": "code",
      "source": [
        "import numpy as np\n",
        "import pandas as pd\n",
        "from rdkit import Chem\n",
        "from rdkit.Chem import AllChem, rdMolDescriptors\n",
        "from sklearn.model_selection import train_test_split\n",
        "from sklearn.metrics import accuracy_score, confusion_matrix\n",
        "import xgboost as xgb\n",
        "\n",
        "def generate_morgan_fingerprints_and_descriptors(smiles_list, radius, nBits):\n",
        "    fps_and_descriptors = []\n",
        "    for smiles in smiles_list:\n",
        "        mol = Chem.MolFromSmiles(smiles)\n",
        "        fp = AllChem.GetMorganFingerprintAsBitVect(mol, radius, nBits=nBits)\n",
        "\n",
        "        # Calculate molecular descriptors using rdMolDescriptors\n",
        "        descriptors = []\n",
        "        for descriptor_name in dir(rdMolDescriptors):\n",
        "            descriptor = getattr(rdMolDescriptors, descriptor_name)\n",
        "            if callable(descriptor) and 'Compute' in descriptor_name:\n",
        "                try:\n",
        "                    value = descriptor(mol)\n",
        "                    if isinstance(value, tuple):\n",
        "                        descriptors.extend(value)\n",
        "                    else:\n",
        "                        descriptors.append(value)\n",
        "                except Exception as e:\n",
        "                    pass\n",
        "\n",
        "        # Combine Morgan fingerprints and descriptors\n",
        "        combined_features = np.concatenate((fp, descriptors))\n",
        "        fps_and_descriptors.append(combined_features)\n",
        "    return np.array(fps_and_descriptors)\n",
        "\n",
        "def main():\n",
        "    # Load your dataset\n",
        "    # data = pd.read_csv('your_dataset.csv')\n",
        "    # smiles_list = data['smiles'].tolist()\n",
        "    # labels = data['label'].tolist()\n",
        "\n",
        "    # Example data\n",
        "    smiles_list = ['CCO', 'CCN', 'CCBr']\n",
        "    labels = [1, 0, 1]\n",
        "\n",
        "    # Generate Morgan fingerprints and descriptors\n",
        "    radius = 2\n",
        "    nBits = 2048\n",
        "    features = generate_morgan_fingerprints_and_descriptors(smiles_list, radius, nBits)\n",
        "\n",
        "    # Split the dataset into training and test sets\n",
        "    X_train, X_test, y_train, y_test = train_test_split(features, labels, test_size=0.2, random_state=42)\n",
        "\n",
        "    # Train the XGBoost classifier\n",
        "    model = xgb.XGBClassifier()\n",
        "    model.fit(X_train, y_train)\n",
        "\n",
        "    # Predict the test set and evaluate the performance\n",
        "    y_pred = model.predict(X_test)\n",
        "    accuracy = accuracy_score(y_test, y_pred)\n",
        "    cm = confusion_matrix(y_test, y_pred)\n",
        "\n",
        "    print(\"Accuracy:\", accuracy)\n",
        "    print(\"Confusion Matrix:\", cm)\n",
        "\n",
        "if __name__ == \"__main__\":\n",
        "    main()\n"
      ],
      "metadata": {
        "colab": {
          "base_uri": "https://localhost:8080/"
        },
        "id": "tCcBpK5ukzVx",
        "outputId": "a0812862-b1c0-4169-ffed-cd66d826400e"
      },
      "execution_count": 6,
      "outputs": [
        {
          "output_type": "stream",
          "name": "stdout",
          "text": [
            "Accuracy: 0.0\n",
            "Confusion Matrix: [[0 0]\n",
            " [1 0]]\n"
          ]
        }
      ]
    },
    {
      "cell_type": "markdown",
      "source": [
        "In this updated script, I replaced the rdkit.Chem.Descriptors module with the rdkit.Chem.rdMolDescriptors module. The script iterates through all available descriptors in rdMolDescriptors and calculates them for each molecule. Please note that some descriptors may not be applicable to all molecules, so the script uses a try-except block to handle such cases.\n",
        "\n",
        "Keep in mind that using all possible descriptors might increase the dimensionality of the input features, which can affect the performance of the model. Depending on your specific use case, it might be useful to select a subset of relevant descriptors or apply dimensionality reduction techniques like PCA. Additionally, consider fine-tuning the XGBoost hyperparameters to improve the model's performance."
      ],
      "metadata": {
        "id": "F45KLpAmk7BB"
      }
    }
  ]
}