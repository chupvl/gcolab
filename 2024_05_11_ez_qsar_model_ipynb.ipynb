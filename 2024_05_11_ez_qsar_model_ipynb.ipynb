{
  "nbformat": 4,
  "nbformat_minor": 0,
  "metadata": {
    "colab": {
      "provenance": [],
      "authorship_tag": "ABX9TyOQPRnFcvY6pUAM+caEoeAc",
      "include_colab_link": true
    },
    "kernelspec": {
      "name": "python3",
      "display_name": "Python 3"
    },
    "language_info": {
      "name": "python"
    }
  },
  "cells": [
    {
      "cell_type": "markdown",
      "metadata": {
        "id": "view-in-github",
        "colab_type": "text"
      },
      "source": [
        "<a href=\"https://colab.research.google.com/github/chupvl/gcolab/blob/main/2024_05_11_ez_qsar_model_ipynb.ipynb\" target=\"_parent\"><img src=\"https://colab.research.google.com/assets/colab-badge.svg\" alt=\"Open In Colab\"/></a>"
      ]
    },
    {
      "cell_type": "markdown",
      "source": [
        "# A very easy introduction into model building for chemistry\n",
        "by Vladimir Chupakhin"
      ],
      "metadata": {
        "id": "OzgJoRshymUc"
      }
    },
    {
      "cell_type": "markdown",
      "source": [
        "## Packages"
      ],
      "metadata": {
        "id": "9Po-L2GDy4IO"
      }
    },
    {
      "cell_type": "code",
      "execution_count": 1,
      "metadata": {
        "colab": {
          "base_uri": "https://localhost:8080/"
        },
        "id": "sBowIu0SxM5c",
        "outputId": "49121e10-89e1-4e3f-9b05-f0211eb012ae"
      },
      "outputs": [
        {
          "output_type": "stream",
          "name": "stdout",
          "text": [
            "Requirement already satisfied: rdkit in /usr/local/lib/python3.10/dist-packages (2023.9.6)\n",
            "Requirement already satisfied: catboost in /usr/local/lib/python3.10/dist-packages (1.2.5)\n",
            "Requirement already satisfied: numpy in /usr/local/lib/python3.10/dist-packages (from rdkit) (1.25.2)\n",
            "Requirement already satisfied: Pillow in /usr/local/lib/python3.10/dist-packages (from rdkit) (9.4.0)\n",
            "Requirement already satisfied: graphviz in /usr/local/lib/python3.10/dist-packages (from catboost) (0.20.3)\n",
            "Requirement already satisfied: matplotlib in /usr/local/lib/python3.10/dist-packages (from catboost) (3.7.1)\n",
            "Requirement already satisfied: pandas>=0.24 in /usr/local/lib/python3.10/dist-packages (from catboost) (2.0.3)\n",
            "Requirement already satisfied: scipy in /usr/local/lib/python3.10/dist-packages (from catboost) (1.11.4)\n",
            "Requirement already satisfied: plotly in /usr/local/lib/python3.10/dist-packages (from catboost) (5.15.0)\n",
            "Requirement already satisfied: six in /usr/local/lib/python3.10/dist-packages (from catboost) (1.16.0)\n",
            "Requirement already satisfied: python-dateutil>=2.8.2 in /usr/local/lib/python3.10/dist-packages (from pandas>=0.24->catboost) (2.8.2)\n",
            "Requirement already satisfied: pytz>=2020.1 in /usr/local/lib/python3.10/dist-packages (from pandas>=0.24->catboost) (2023.4)\n",
            "Requirement already satisfied: tzdata>=2022.1 in /usr/local/lib/python3.10/dist-packages (from pandas>=0.24->catboost) (2024.1)\n",
            "Requirement already satisfied: contourpy>=1.0.1 in /usr/local/lib/python3.10/dist-packages (from matplotlib->catboost) (1.2.1)\n",
            "Requirement already satisfied: cycler>=0.10 in /usr/local/lib/python3.10/dist-packages (from matplotlib->catboost) (0.12.1)\n",
            "Requirement already satisfied: fonttools>=4.22.0 in /usr/local/lib/python3.10/dist-packages (from matplotlib->catboost) (4.51.0)\n",
            "Requirement already satisfied: kiwisolver>=1.0.1 in /usr/local/lib/python3.10/dist-packages (from matplotlib->catboost) (1.4.5)\n",
            "Requirement already satisfied: packaging>=20.0 in /usr/local/lib/python3.10/dist-packages (from matplotlib->catboost) (24.0)\n",
            "Requirement already satisfied: pyparsing>=2.3.1 in /usr/local/lib/python3.10/dist-packages (from matplotlib->catboost) (3.1.2)\n",
            "Requirement already satisfied: tenacity>=6.2.0 in /usr/local/lib/python3.10/dist-packages (from plotly->catboost) (8.3.0)\n"
          ]
        }
      ],
      "source": [
        "!pip install rdkit catboost"
      ]
    },
    {
      "cell_type": "markdown",
      "source": [
        "## Libs & functions"
      ],
      "metadata": {
        "id": "BGCZehuZzBr5"
      }
    },
    {
      "cell_type": "code",
      "source": [
        "import pandas as pd\n",
        "from tqdm import tqdm\n",
        "import scipy\n",
        "\n",
        "from sklearn.model_selection import KFold\n",
        "from catboost import CatBoostRegressor, Pool\n",
        "from sklearn.metrics import mean_squared_error, r2_score\n",
        "from scipy.stats import spearmanr\n",
        "import numpy as np"
      ],
      "metadata": {
        "id": "_WnxCgPTzDBY"
      },
      "execution_count": 2,
      "outputs": []
    },
    {
      "cell_type": "code",
      "source": [
        "import rdkit\n",
        "from rdkit import Chem\n",
        "from rdkit.Chem.Draw import IPythonConsole\n",
        "from rdkit.Chem.MolStandardize import rdMolStandardize\n",
        "\n",
        "from rdkit.Chem import rdFingerprintGenerator\n",
        "from rdkit.Chem import Descriptors\n",
        "# not the best solution but rdkit is chatty (for good, not bad)\n",
        "from rdkit import RDLogger\n",
        "RDLogger.DisableLog('rdApp.*')\n",
        "\n"
      ],
      "metadata": {
        "id": "REDHCcb95y-4"
      },
      "execution_count": 3,
      "outputs": []
    },
    {
      "cell_type": "code",
      "source": [
        "def mol_std(smiles):\n",
        "  try:\n",
        "    # we need rdkit mol format\n",
        "    m = Chem.MolFromSmiles(smiles)\n",
        "    # default cleaning procedure\n",
        "    m = rdMolStandardize.Cleanup(m)\n",
        "    # getting the largest compound\n",
        "    m = rdMolStandardize.FragmentParent(m)\n",
        "    # removing charge if any\n",
        "    uncharger = rdMolStandardize.Uncharger()\n",
        "    m = uncharger.uncharge(m)\n",
        "    # this is the most controversional step\n",
        "    # getting the most common tautomeric form\n",
        "    # and the main source of errors\n",
        "    TautomerEnumerator = rdMolStandardize.TautomerEnumerator()\n",
        "    m = TautomerEnumerator.Canonicalize(m)\n",
        "    return m\n",
        "  except:\n",
        "    return None"
      ],
      "metadata": {
        "id": "O9XItdrTVd1E"
      },
      "execution_count": 4,
      "outputs": []
    },
    {
      "cell_type": "code",
      "source": [
        "def getRDKitDescr(lst_mols):\n",
        "    # physchem and 1D descriptors\n",
        "    descriptor_names = [d[0] for d in Descriptors.descList]\n",
        "    descriptor_funcs = [d[1] for d in Descriptors.descList]\n",
        "    # init matrix\n",
        "    fp_matrix = scipy.sparse.lil_matrix((len(lst_mols), 2048))\n",
        "    #\n",
        "    descr2d_lst = []\n",
        "    # calculate descriptors\n",
        "    for i, mol in tqdm(enumerate(lst_mols)):\n",
        "        try:\n",
        "            # let's use Morgan one\n",
        "            fp = rdFingerprintGenerator.GetMorganGenerator(radius=3).GetFingerprint(mol)\n",
        "            for j in fp.GetOnBits():\n",
        "                fp_matrix[i, j] = 1\n",
        "            descr2d = {desc_name: func(mol) for desc_name, func in zip(descriptor_names, descriptor_funcs)}\n",
        "            descr2d_lst.append(descr2d)\n",
        "        except:\n",
        "            descr2d_lst.append(None)\n",
        "            continue\n",
        "    # sparse format will let you save memory and disk space\n",
        "    descr_rdkit_2d = scipy.sparse.csr_matrix(pd.DataFrame(descr2d_lst).to_numpy())\n",
        "    descr_combo = scipy.sparse.hstack((descr_rdkit_2d, fp_matrix))\n",
        "    descr_names = descriptor_names + [['FP'+'str(i)']*2048 for i in range(2048)]\n",
        "    return descr_combo, descr_names\n"
      ],
      "metadata": {
        "id": "qF8_fC1Pbg33"
      },
      "execution_count": 5,
      "outputs": []
    },
    {
      "cell_type": "code",
      "source": [
        "def run_cb(X,y):\n",
        "  # CatBoostRegressor\n",
        "  model = CatBoostRegressor(loss_function='RMSEWithUncertainty', verbose=False)\n",
        "  # K-fold cross-validation\n",
        "  kf = KFold(n_splits=5, shuffle=True, random_state=42)\n",
        "\n",
        "  rmse_scores = []\n",
        "  r2_scores = []\n",
        "  spearman_scores = []\n",
        "\n",
        "  # cross-validation\n",
        "  for train_index, test_index in kf.split(X):\n",
        "      X_train, X_test = X.iloc[train_index], X.iloc[test_index]\n",
        "      y_train, y_test = y[train_index], y[test_index]\n",
        "\n",
        "      train_pool = Pool(X_train, y_train)\n",
        "      test_pool = Pool(X_test, y_test)\n",
        "\n",
        "      model.fit(train_pool, eval_set=test_pool)\n",
        "\n",
        "      y_pred = model.predict(X_test)\n",
        "      y_pred_mean = y_pred[:, 0]\n",
        "\n",
        "      # Calculate metrics\n",
        "      rmse = np.sqrt(mean_squared_error(y_test, y_pred_mean))\n",
        "      r2 = r2_score(y_test, y_pred_mean)\n",
        "      spearman_corr, _ = spearmanr(y_test, y_pred_mean)\n",
        "\n",
        "      rmse_scores.append(rmse)\n",
        "      r2_scores.append(r2)\n",
        "      spearman_scores.append(spearman_corr)\n",
        "\n",
        "  print(\"Median RMSE:\", np.median(rmse_scores))\n",
        "  print(\"Median R²:\", np.median(r2_scores))\n",
        "  print(\"Median Spearman Correlation:\", np.median(spearman_scores))\n",
        "  res = {}\n",
        "  res['model'] = model\n",
        "  res['rmse_scores'] = rmse_scores\n",
        "  res['r2_scores'] = r2_scores\n",
        "  res['spearman_scores'] = spearman_scores\n",
        "  return res"
      ],
      "metadata": {
        "id": "2GX0TgW-ioA3"
      },
      "execution_count": 6,
      "outputs": []
    },
    {
      "cell_type": "markdown",
      "source": [
        "## Data"
      ],
      "metadata": {
        "id": "7D_Y7Qv0zHlZ"
      }
    },
    {
      "cell_type": "markdown",
      "source": [
        "Let's use the most simple example of water solubility prediction.\n",
        "We will take the dataset from Oleg A. Raevsky [publication](https://pubs.acs.org/doi/10.1021/ci400692n) that was curated as a part of the [AqSol database](https://www.nature.com/articles/s41597-019-0151-1). Why? Those compounds are neutral in water at a standard temperature (25C), thus likely will cause least issues."
      ],
      "metadata": {
        "id": "ox2LY6_hViyg"
      }
    },
    {
      "cell_type": "code",
      "source": [
        "#\n",
        "df = pd.read_csv('https://raw.githubusercontent.com/mcsorkun/AqSolDB/master/results/data_curated.csv')\n",
        "#\n",
        "dfc = df[df['ID'].str.contains('C-')]\n",
        "dfcg1 = dfc[dfc['Group'] == 'G1'].reset_index(drop=True)"
      ],
      "metadata": {
        "id": "XgizYiMwxbdL"
      },
      "execution_count": 7,
      "outputs": []
    },
    {
      "cell_type": "code",
      "source": [
        "dfc.columns"
      ],
      "metadata": {
        "colab": {
          "base_uri": "https://localhost:8080/"
        },
        "id": "r8jty3cnzR07",
        "outputId": "8801b80f-4256-4128-9495-3e629008eb97"
      },
      "execution_count": 8,
      "outputs": [
        {
          "output_type": "execute_result",
          "data": {
            "text/plain": [
              "Index(['ID', 'Name', 'InChI', 'InChIKey', 'SMILES', 'Solubility', 'SD',\n",
              "       'Occurrences', 'Group', 'MolWt', 'MolLogP', 'MolMR', 'HeavyAtomCount',\n",
              "       'NumHAcceptors', 'NumHDonors', 'NumHeteroatoms', 'NumRotatableBonds',\n",
              "       'NumValenceElectrons', 'NumAromaticRings', 'NumSaturatedRings',\n",
              "       'NumAliphaticRings', 'RingCount', 'TPSA', 'LabuteASA', 'BalabanJ',\n",
              "       'BertzCT'],\n",
              "      dtype='object')"
            ]
          },
          "metadata": {},
          "execution_count": 8
        }
      ]
    },
    {
      "cell_type": "markdown",
      "source": [
        "Next \"curation\" step is a selection of the compounds that has most stable solubility values: \"The selection is performed by first classifying the compounds into five distinct groups which are defined based on the statistics of occurrence of a compound in the dataset\"[ref](https://www.nature.com/articles/s41597-019-0151-1)."
      ],
      "metadata": {
        "id": "19k9pPTq09s6"
      }
    },
    {
      "cell_type": "code",
      "source": [
        "df['Group'].value_counts()"
      ],
      "metadata": {
        "colab": {
          "base_uri": "https://localhost:8080/"
        },
        "id": "Ag8yDvOV0wtG",
        "outputId": "ddb0dc45-3124-42e2-9333-9d28982632b0"
      },
      "execution_count": 9,
      "outputs": [
        {
          "output_type": "execute_result",
          "data": {
            "text/plain": [
              "Group\n",
              "G1    7746\n",
              "G3    1182\n",
              "G5     636\n",
              "G2     235\n",
              "G4     183\n",
              "Name: count, dtype: int64"
            ]
          },
          "metadata": {},
          "execution_count": 9
        }
      ]
    },
    {
      "cell_type": "code",
      "source": [
        "dfcg1['Solubility'].plot(kind='hist', bins=100)"
      ],
      "metadata": {
        "colab": {
          "base_uri": "https://localhost:8080/",
          "height": 448
        },
        "id": "3KyPs6M71NVc",
        "outputId": "2e88f3fe-43d2-489f-b4fe-efd67c65dff1"
      },
      "execution_count": 10,
      "outputs": [
        {
          "output_type": "execute_result",
          "data": {
            "text/plain": [
              "<Axes: ylabel='Frequency'>"
            ]
          },
          "metadata": {},
          "execution_count": 10
        },
        {
          "output_type": "display_data",
          "data": {
            "text/plain": [
              "<Figure size 640x480 with 1 Axes>"
            ],
            "image/png": "[encoded data removed]"
          },
          "metadata": {}
        }
      ]
    },
    {
      "cell_type": "markdown",
      "source": [
        "## Smiles standardization"
      ],
      "metadata": {
        "id": "Rike6EDZ1YlD"
      }
    },
    {
      "cell_type": "markdown",
      "source": [
        "It's common that for open (public) data we deal with data coming from several data sources. Thus SMILES reprsentation might following different encoding rules, as not all vendors of chemsoftware follow identical rules. Standardization procedure is well described [here](https://www.blopig.com/blog/2022/05/molecular-standardization/) and [here](https://github.com/rdkit/rdkit/blob/master/Docs/Notebooks/MolStandardize.ipynb)."
      ],
      "metadata": {
        "id": "TH_v35pc1hPR"
      }
    },
    {
      "cell_type": "code",
      "source": [
        "result = [mol_std(s) for s in tqdm(dfcg1['SMILES'].to_list())]"
      ],
      "metadata": {
        "colab": {
          "base_uri": "https://localhost:8080/"
        },
        "id": "ynVQimy15Cri",
        "outputId": "80a7c7e4-e5ae-4f14-bcf1-ebf3028bff60"
      },
      "execution_count": 11,
      "outputs": [
        {
          "output_type": "stream",
          "name": "stderr",
          "text": [
            "100%|██████████| 1073/1073 [01:00<00:00, 17.72it/s]\n"
          ]
        }
      ]
    },
    {
      "cell_type": "code",
      "source": [
        "dfcg1['smiles_std'] = result"
      ],
      "metadata": {
        "id": "KJ4ZAnkW57U1"
      },
      "execution_count": 12,
      "outputs": []
    },
    {
      "cell_type": "markdown",
      "source": [
        "## Featurization"
      ],
      "metadata": {
        "id": "VjpnLDyu15gi"
      }
    },
    {
      "cell_type": "code",
      "source": [
        "descr, descr_names = getRDKitDescr(dfcg1['smiles_std'].to_list())"
      ],
      "metadata": {
        "colab": {
          "base_uri": "https://localhost:8080/"
        },
        "collapsed": true,
        "id": "mi3rvuDvbYvI",
        "outputId": "5a472ae2-37ed-4fbc-a971-c46fc1327854"
      },
      "execution_count": 13,
      "outputs": [
        {
          "output_type": "stream",
          "name": "stderr",
          "text": [
            "1073it [00:14, 72.02it/s]\n"
          ]
        }
      ]
    },
    {
      "cell_type": "markdown",
      "source": [
        "## Modeling building"
      ],
      "metadata": {
        "id": "VVih3DMmci6L"
      }
    },
    {
      "cell_type": "markdown",
      "source": [
        "Catboost models are perfect out-of-box solution for classification and regression. So, we will use cross-validation setup. Most importantly you don't need to bother about descriptor scaling or any other transformation."
      ],
      "metadata": {
        "id": "7FZx4Uoaclfz"
      }
    },
    {
      "cell_type": "code",
      "source": [
        "X = descr\n",
        "y = dfcg1['Solubility'].to_numpy()"
      ],
      "metadata": {
        "id": "sgsh8Uq5eez8"
      },
      "execution_count": 14,
      "outputs": []
    },
    {
      "cell_type": "code",
      "source": [
        "# catboost does not support sparse by default, so we need to use pandas sparse dataframe\n",
        "df_descr = pd.DataFrame.sparse.from_spmatrix(descr)\n",
        "df_descr.head()"
      ],
      "metadata": {
        "colab": {
          "base_uri": "https://localhost:8080/",
          "height": 236
        },
        "id": "W2EHlxU6gZYt",
        "outputId": "4f11502a-c01b-4487-b044-c3ec9fe67f44"
      },
      "execution_count": 15,
      "outputs": [
        {
          "output_type": "execute_result",
          "data": {
            "text/plain": [
              "        0          1         2         3         4          5        6     \\\n",
              "0   9.903750   9.903750  0.363426 -0.695648  0.579480   9.375000  117.148   \n",
              "1   9.487593   9.487593  0.231065 -0.231065  0.571409  31.363636  152.237   \n",
              "2  10.014931  10.014931  0.452546 -0.724537  0.511678  10.875000  117.148   \n",
              "3  10.172060  10.172060  0.646991 -1.018519  0.488091  15.111111  149.215   \n",
              "4  11.858935  11.858935  0.030000 -0.738426  0.652158  27.153846  183.251   \n",
              "\n",
              "      7           8     9     ...  2248  2249  2250  2251  2252  2253  2254  \\\n",
              "0  106.060  117.078979  48.0  ...   0.0   0.0   0.0   0.0   0.0   0.0   0.0   \n",
              "1  136.109  152.120115  62.0  ...   0.0   0.0   0.0   0.0   0.0   0.0   1.0   \n",
              "2  106.060  117.078979  48.0  ...   0.0   0.0   0.0   0.0   0.0   0.0   0.0   \n",
              "3  138.127  149.051050  54.0  ...   0.0   0.0   0.0   0.0   0.0   0.0   0.0   \n",
              "4  166.115  183.125929  74.0  ...   0.0   0.0   0.0   0.0   0.0   0.0   0.0   \n",
              "\n",
              "   2255  2256  2257  \n",
              "0   0.0   0.0   0.0  \n",
              "1   0.0   0.0   0.0  \n",
              "2   0.0   0.0   0.0  \n",
              "3   0.0   0.0   0.0  \n",
              "4   0.0   0.0   0.0  \n",
              "\n",
              "[5 rows x 2258 columns]"
            ],
            "text/html": [
              "\n",
              "  <div id=\"df-f8b94ef4-4c3a-46c8-a55e-96252d5fea7e\" class=\"colab-df-container\">\n",
              "    <div>\n",
              "<style scoped>\n",
              "    .dataframe tbody tr th:only-of-type {\n",
              "        vertical-align: middle;\n",
              "    }\n",
              "\n",
              "    .dataframe tbody tr th {\n",
              "        vertical-align: top;\n",
              "    }\n",
              "\n",
              "    .dataframe thead th {\n",
              "        text-align: right;\n",
              "    }\n",
              "</style>\n",
              "<table border=\"1\" class=\"dataframe\">\n",
              "  <thead>\n",
              "    <tr style=\"text-align: right;\">\n",
              "      <th></th>\n",
              "      <th>0</th>\n",
              "      <th>1</th>\n",
              "      <th>2</th>\n",
              "      <th>3</th>\n",
              "      <th>4</th>\n",
              "      <th>5</th>\n",
              "      <th>6</th>\n",
              "      <th>7</th>\n",
              "      <th>8</th>\n",
              "      <th>9</th>\n",
              "      <th>...</th>\n",
              "      <th>2248</th>\n",
              "      <th>2249</th>\n",
              "      <th>2250</th>\n",
              "      <th>2251</th>\n",
              "      <th>2252</th>\n",
              "      <th>2253</th>\n",
              "      <th>2254</th>\n",
              "      <th>2255</th>\n",
              "      <th>2256</th>\n",
              "      <th>2257</th>\n",
              "    </tr>\n",
              "  </thead>\n",
              "  <tbody>\n",
              "    <tr>\n",
              "      <th>0</th>\n",
              "      <td>9.903750</td>\n",
              "      <td>9.903750</td>\n",
              "      <td>0.363426</td>\n",
              "      <td>-0.695648</td>\n",
              "      <td>0.579480</td>\n",
              "      <td>9.375000</td>\n",
              "      <td>117.148</td>\n",
              "      <td>106.060</td>\n",
              "      <td>117.078979</td>\n",
              "      <td>48.0</td>\n",
              "      <td>...</td>\n",
              "      <td>0.0</td>\n",
              "      <td>0.0</td>\n",
              "      <td>0.0</td>\n",
              "      <td>0.0</td>\n",
              "      <td>0.0</td>\n",
              "      <td>0.0</td>\n",
              "      <td>0.0</td>\n",
              "      <td>0.0</td>\n",
              "      <td>0.0</td>\n",
              "      <td>0.0</td>\n",
              "    </tr>\n",
              "    <tr>\n",
              "      <th>1</th>\n",
              "      <td>9.487593</td>\n",
              "      <td>9.487593</td>\n",
              "      <td>0.231065</td>\n",
              "      <td>-0.231065</td>\n",
              "      <td>0.571409</td>\n",
              "      <td>31.363636</td>\n",
              "      <td>152.237</td>\n",
              "      <td>136.109</td>\n",
              "      <td>152.120115</td>\n",
              "      <td>62.0</td>\n",
              "      <td>...</td>\n",
              "      <td>0.0</td>\n",
              "      <td>0.0</td>\n",
              "      <td>0.0</td>\n",
              "      <td>0.0</td>\n",
              "      <td>0.0</td>\n",
              "      <td>0.0</td>\n",
              "      <td>1.0</td>\n",
              "      <td>0.0</td>\n",
              "      <td>0.0</td>\n",
              "      <td>0.0</td>\n",
              "    </tr>\n",
              "    <tr>\n",
              "      <th>2</th>\n",
              "      <td>10.014931</td>\n",
              "      <td>10.014931</td>\n",
              "      <td>0.452546</td>\n",
              "      <td>-0.724537</td>\n",
              "      <td>0.511678</td>\n",
              "      <td>10.875000</td>\n",
              "      <td>117.148</td>\n",
              "      <td>106.060</td>\n",
              "      <td>117.078979</td>\n",
              "      <td>48.0</td>\n",
              "      <td>...</td>\n",
              "      <td>0.0</td>\n",
              "      <td>0.0</td>\n",
              "      <td>0.0</td>\n",
              "      <td>0.0</td>\n",
              "      <td>0.0</td>\n",
              "      <td>0.0</td>\n",
              "      <td>0.0</td>\n",
              "      <td>0.0</td>\n",
              "      <td>0.0</td>\n",
              "      <td>0.0</td>\n",
              "    </tr>\n",
              "    <tr>\n",
              "      <th>3</th>\n",
              "      <td>10.172060</td>\n",
              "      <td>10.172060</td>\n",
              "      <td>0.646991</td>\n",
              "      <td>-1.018519</td>\n",
              "      <td>0.488091</td>\n",
              "      <td>15.111111</td>\n",
              "      <td>149.215</td>\n",
              "      <td>138.127</td>\n",
              "      <td>149.051050</td>\n",
              "      <td>54.0</td>\n",
              "      <td>...</td>\n",
              "      <td>0.0</td>\n",
              "      <td>0.0</td>\n",
              "      <td>0.0</td>\n",
              "      <td>0.0</td>\n",
              "      <td>0.0</td>\n",
              "      <td>0.0</td>\n",
              "      <td>0.0</td>\n",
              "      <td>0.0</td>\n",
              "      <td>0.0</td>\n",
              "      <td>0.0</td>\n",
              "    </tr>\n",
              "    <tr>\n",
              "      <th>4</th>\n",
              "      <td>11.858935</td>\n",
              "      <td>11.858935</td>\n",
              "      <td>0.030000</td>\n",
              "      <td>-0.738426</td>\n",
              "      <td>0.652158</td>\n",
              "      <td>27.153846</td>\n",
              "      <td>183.251</td>\n",
              "      <td>166.115</td>\n",
              "      <td>183.125929</td>\n",
              "      <td>74.0</td>\n",
              "      <td>...</td>\n",
              "      <td>0.0</td>\n",
              "      <td>0.0</td>\n",
              "      <td>0.0</td>\n",
              "      <td>0.0</td>\n",
              "      <td>0.0</td>\n",
              "      <td>0.0</td>\n",
              "      <td>0.0</td>\n",
              "      <td>0.0</td>\n",
              "      <td>0.0</td>\n",
              "      <td>0.0</td>\n",
              "    </tr>\n",
              "  </tbody>\n",
              "</table>\n",
              "<p>5 rows × 2258 columns</p>\n",
              "</div>\n",
              "    <div class=\"colab-df-buttons\">\n",
              "\n",
              "  <div class=\"colab-df-container\">\n",
              "    <button class=\"colab-df-convert\" onclick=\"convertToInteractive('df-f8b94ef4-4c3a-46c8-a55e-96252d5fea7e')\"\n",
              "            title=\"Convert this dataframe to an interactive table.\"\n",
              "            style=\"display:none;\">\n",
              "\n",
              "  <svg xmlns=\"http://www.w3.org/2000/svg\" height=\"24px\" viewBox=\"0 -960 960 960\">\n",
              "    <path d=\"M120-120v-720h720v720H120Zm60-500h600v-160H180v160Zm220 220h160v-160H400v160Zm0 220h160v-160H400v160ZM180-400h160v-160H180v160Zm440 0h160v-160H620v160ZM180-180h160v-160H180v160Zm440 0h160v-160H620v160Z\"/>\n",
              "  </svg>\n",
              "    </button>\n",
              "\n",
              "  <style>\n",
              "    .colab-df-container {\n",
              "      display:flex;\n",
              "      gap: 12px;\n",
              "    }\n",
              "\n",
              "    .colab-df-convert {\n",
              "      background-color: #E8F0FE;\n",
              "      border: none;\n",
              "      border-radius: 50%;\n",
              "      cursor: pointer;\n",
              "      display: none;\n",
              "      fill: #1967D2;\n",
              "      height: 32px;\n",
              "      padding: 0 0 0 0;\n",
              "      width: 32px;\n",
              "    }\n",
              "\n",
              "    .colab-df-convert:hover {\n",
              "      background-color: #E2EBFA;\n",
              "      box-shadow: 0px 1px 2px rgba(60, 64, 67, 0.3), 0px 1px 3px 1px rgba(60, 64, 67, 0.15);\n",
              "      fill: #174EA6;\n",
              "    }\n",
              "\n",
              "    .colab-df-buttons div {\n",
              "      margin-bottom: 4px;\n",
              "    }\n",
              "\n",
              "    [theme=dark] .colab-df-convert {\n",
              "      background-color: #3B4455;\n",
              "      fill: #D2E3FC;\n",
              "    }\n",
              "\n",
              "    [theme=dark] .colab-df-convert:hover {\n",
              "      background-color: #434B5C;\n",
              "      box-shadow: 0px 1px 3px 1px rgba(0, 0, 0, 0.15);\n",
              "      filter: drop-shadow(0px 1px 2px rgba(0, 0, 0, 0.3));\n",
              "      fill: #FFFFFF;\n",
              "    }\n",
              "  </style>\n",
              "\n",
              "    <script>\n",
              "      const buttonEl =\n",
              "        document.querySelector('#df-f8b94ef4-4c3a-46c8-a55e-96252d5fea7e button.colab-df-convert');\n",
              "      buttonEl.style.display =\n",
              "        google.colab.kernel.accessAllowed ? 'block' : 'none';\n",
              "\n",
              "      async function convertToInteractive(key) {\n",
              "        const element = document.querySelector('#df-f8b94ef4-4c3a-46c8-a55e-96252d5fea7e');\n",
              "        const dataTable =\n",
              "          await google.colab.kernel.invokeFunction('convertToInteractive',\n",
              "                                                    [key], {});\n",
              "        if (!dataTable) return;\n",
              "\n",
              "        const docLinkHtml = 'Like what you see? Visit the ' +\n",
              "          '<a target=\"_blank\" href=https://colab.research.google.com/notebooks/data_table.ipynb>data table notebook</a>'\n",
              "          + ' to learn more about interactive tables.';\n",
              "        element.innerHTML = '';\n",
              "        dataTable['output_type'] = 'display_data';\n",
              "        await google.colab.output.renderOutput(dataTable, element);\n",
              "        const docLink = document.createElement('div');\n",
              "        docLink.innerHTML = docLinkHtml;\n",
              "        element.appendChild(docLink);\n",
              "      }\n",
              "    </script>\n",
              "  </div>\n",
              "\n",
              "\n",
              "<div id=\"df-b6b4c8dd-82d1-4854-9274-54bf23c48ff3\">\n",
              "  <button class=\"colab-df-quickchart\" onclick=\"quickchart('df-b6b4c8dd-82d1-4854-9274-54bf23c48ff3')\"\n",
              "            title=\"Suggest charts\"\n",
              "            style=\"display:none;\">\n",
              "\n",
              "<svg xmlns=\"http://www.w3.org/2000/svg\" height=\"24px\"viewBox=\"0 0 24 24\"\n",
              "     width=\"24px\">\n",
              "    <g>\n",
              "        <path d=\"M19 3H5c-1.1 0-2 .9-2 2v14c0 1.1.9 2 2 2h14c1.1 0 2-.9 2-2V5c0-1.1-.9-2-2-2zM9 17H7v-7h2v7zm4 0h-2V7h2v10zm4 0h-2v-4h2v4z\"/>\n",
              "    </g>\n",
              "</svg>\n",
              "  </button>\n",
              "\n",
              "<style>\n",
              "  .colab-df-quickchart {\n",
              "      --bg-color: #E8F0FE;\n",
              "      --fill-color: #1967D2;\n",
              "      --hover-bg-color: #E2EBFA;\n",
              "      --hover-fill-color: #174EA6;\n",
              "      --disabled-fill-color: #AAA;\n",
              "      --disabled-bg-color: #DDD;\n",
              "  }\n",
              "\n",
              "  [theme=dark] .colab-df-quickchart {\n",
              "      --bg-color: #3B4455;\n",
              "      --fill-color: #D2E3FC;\n",
              "      --hover-bg-color: #434B5C;\n",
              "      --hover-fill-color: #FFFFFF;\n",
              "      --disabled-bg-color: #3B4455;\n",
              "      --disabled-fill-color: #666;\n",
              "  }\n",
              "\n",
              "  .colab-df-quickchart {\n",
              "    background-color: var(--bg-color);\n",
              "    border: none;\n",
              "    border-radius: 50%;\n",
              "    cursor: pointer;\n",
              "    display: none;\n",
              "    fill: var(--fill-color);\n",
              "    height: 32px;\n",
              "    padding: 0;\n",
              "    width: 32px;\n",
              "  }\n",
              "\n",
              "  .colab-df-quickchart:hover {\n",
              "    background-color: var(--hover-bg-color);\n",
              "    box-shadow: 0 1px 2px rgba(60, 64, 67, 0.3), 0 1px 3px 1px rgba(60, 64, 67, 0.15);\n",
              "    fill: var(--button-hover-fill-color);\n",
              "  }\n",
              "\n",
              "  .colab-df-quickchart-complete:disabled,\n",
              "  .colab-df-quickchart-complete:disabled:hover {\n",
              "    background-color: var(--disabled-bg-color);\n",
              "    fill: var(--disabled-fill-color);\n",
              "    box-shadow: none;\n",
              "  }\n",
              "\n",
              "  .colab-df-spinner {\n",
              "    border: 2px solid var(--fill-color);\n",
              "    border-color: transparent;\n",
              "    border-bottom-color: var(--fill-color);\n",
              "    animation:\n",
              "      spin 1s steps(1) infinite;\n",
              "  }\n",
              "\n",
              "  @keyframes spin {\n",
              "    0% {\n",
              "      border-color: transparent;\n",
              "      border-bottom-color: var(--fill-color);\n",
              "      border-left-color: var(--fill-color);\n",
              "    }\n",
              "    20% {\n",
              "      border-color: transparent;\n",
              "      border-left-color: var(--fill-color);\n",
              "      border-top-color: var(--fill-color);\n",
              "    }\n",
              "    30% {\n",
              "      border-color: transparent;\n",
              "      border-left-color: var(--fill-color);\n",
              "      border-top-color: var(--fill-color);\n",
              "      border-right-color: var(--fill-color);\n",
              "    }\n",
              "    40% {\n",
              "      border-color: transparent;\n",
              "      border-right-color: var(--fill-color);\n",
              "      border-top-color: var(--fill-color);\n",
              "    }\n",
              "    60% {\n",
              "      border-color: transparent;\n",
              "      border-right-color: var(--fill-color);\n",
              "    }\n",
              "    80% {\n",
              "      border-color: transparent;\n",
              "      border-right-color: var(--fill-color);\n",
              "      border-bottom-color: var(--fill-color);\n",
              "    }\n",
              "    90% {\n",
              "      border-color: transparent;\n",
              "      border-bottom-color: var(--fill-color);\n",
              "    }\n",
              "  }\n",
              "</style>\n",
              "\n",
              "  <script>\n",
              "    async function quickchart(key) {\n",
              "      const quickchartButtonEl =\n",
              "        document.querySelector('#' + key + ' button');\n",
              "      quickchartButtonEl.disabled = true;  // To prevent multiple clicks.\n",
              "      quickchartButtonEl.classList.add('colab-df-spinner');\n",
              "      try {\n",
              "        const charts = await google.colab.kernel.invokeFunction(\n",
              "            'suggestCharts', [key], {});\n",
              "      } catch (error) {\n",
              "        console.error('Error during call to suggestCharts:', error);\n",
              "      }\n",
              "      quickchartButtonEl.classList.remove('colab-df-spinner');\n",
              "      quickchartButtonEl.classList.add('colab-df-quickchart-complete');\n",
              "    }\n",
              "    (() => {\n",
              "      let quickchartButtonEl =\n",
              "        document.querySelector('#df-b6b4c8dd-82d1-4854-9274-54bf23c48ff3 button');\n",
              "      quickchartButtonEl.style.display =\n",
              "        google.colab.kernel.accessAllowed ? 'block' : 'none';\n",
              "    })();\n",
              "  </script>\n",
              "</div>\n",
              "\n",
              "    </div>\n",
              "  </div>\n"
            ],
            "application/vnd.google.colaboratory.intrinsic+json": {
              "type": "dataframe",
              "variable_name": "df_descr"
            }
          },
          "metadata": {},
          "execution_count": 15
        }
      ]
    },
    {
      "cell_type": "code",
      "source": [
        "# different loss metrics will impact the model quality\n",
        "# but let's use RMSEWith\n",
        "aqsol_model = run_cb(df_descr, y)"
      ],
      "metadata": {
        "colab": {
          "base_uri": "https://localhost:8080/"
        },
        "id": "AkysJUZrf-ie",
        "outputId": "b44cca30-4a0c-4ddc-806f-6a703dc70373"
      },
      "execution_count": 16,
      "outputs": [
        {
          "output_type": "stream",
          "name": "stdout",
          "text": [
            "Median RMSE: 0.9382356930630592\n",
            "Median R²: 0.7882259242285613\n",
            "Median Spearman Correlation: 0.8407696341453892\n"
          ]
        }
      ]
    },
    {
      "cell_type": "markdown",
      "source": [
        "No the perfect model, but can be used as a baseline.\n",
        "There are many ways to improve the quality, but that's a totally different story."
      ],
      "metadata": {
        "id": "dgdgRvELiXzk"
      }
    },
    {
      "cell_type": "code",
      "source": [
        "# picture worth a 1000 words, right...\n",
        "y_pred = aqsol_model['model'].predict(df_descr)\n",
        "dfcg1['y_pred'] = y_pred[:,0]\n",
        "dfcg1['y_pred_uncertainty'] = y_pred[:,1]\n",
        "dfcg1.plot(x='Solubility', y='y_pred', c='y_pred_uncertainty', kind='scatter')"
      ],
      "metadata": {
        "colab": {
          "base_uri": "https://localhost:8080/",
          "height": 467
        },
        "id": "3VMB5gnqih9w",
        "outputId": "14a2d328-ccde-4fd0-dd10-6159364f7932"
      },
      "execution_count": 23,
      "outputs": [
        {
          "output_type": "execute_result",
          "data": {
            "text/plain": [
              "<Axes: xlabel='Solubility', ylabel='y_pred'>"
            ]
          },
          "metadata": {},
          "execution_count": 23
        },
        {
          "output_type": "display_data",
          "data": {
            "text/plain": [
              "<Figure size 640x480 with 2 Axes>"
            ],
            "image/png": "[encoded data removed]"
          },
          "metadata": {}
        }
      ]
    }
  ]
}