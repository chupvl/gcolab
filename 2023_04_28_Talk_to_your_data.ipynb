{
  "nbformat": 4,
  "nbformat_minor": 0,
  "metadata": {
    "colab": {
      "provenance": [],
      "authorship_tag": "ABX9TyPZClZ0Ey/WfBQCH0NcuMKc",
      "include_colab_link": true
    },
    "kernelspec": {
      "name": "python3",
      "display_name": "Python 3"
    },
    "language_info": {
      "name": "python"
    }
  },
  "cells": [
    {
      "cell_type": "markdown",
      "metadata": {
        "id": "view-in-github",
        "colab_type": "text"
      },
      "source": [
        "<a href=\"https://colab.research.google.com/github/chupvl/gcolab/blob/main/2023_04_28_Talk_to_your_data.ipynb\" target=\"_parent\"><img src=\"https://colab.research.google.com/assets/colab-badge.svg\" alt=\"Open In Colab\"/></a>"
      ]
    },
    {
      "cell_type": "markdown",
      "source": [
        "# Can we talk with the data? Tiny case for testing pandas_ai for human clearance data"
      ],
      "metadata": {
        "id": "8GrPD1oIWBrf"
      }
    },
    {
      "cell_type": "markdown",
      "source": [
        "This is a test of the [pandas_ai](https://github.com/gventuri/pandas-ai) package by [Gabriele Venturi](https://github.com/gventuri). \n",
        "\n",
        "Dataset I used is an AstraZeneca clearance data [CHEMBL3301370](https://www.ebi.ac.uk/chembl/assay_report_card/CHEMBL3301370/): ASTRAZENECA: Intrinsic clearance measured in human liver microsomes following incubation at 37C. Experimental range <3 to >150 microL/min/mg. Rapid Commun. Mass Spectrom. 2010, 24, 1730-1736.\n",
        "\n",
        "**TLDR**: the proposed solution is far from optimal but it's working! Definitely an expertise layer."
      ],
      "metadata": {
        "id": "q7VVSuBFWKgv"
      }
    },
    {
      "cell_type": "markdown",
      "source": [
        "## Libs"
      ],
      "metadata": {
        "id": "nypezha-WAf0"
      }
    },
    {
      "cell_type": "code",
      "source": [
        "!pip install pandasai -q"
      ],
      "metadata": {
        "id": "igowjHftWHsA"
      },
      "execution_count": null,
      "outputs": []
    },
    {
      "cell_type": "code",
      "source": [
        "!pip install astor -q"
      ],
      "metadata": {
        "id": "tjKITqv2Xv0W"
      },
      "execution_count": null,
      "outputs": []
    },
    {
      "cell_type": "code",
      "source": [
        "!pip install python-dotenv -q"
      ],
      "metadata": {
        "id": "Yai9yWvpZk_Y"
      },
      "execution_count": null,
      "outputs": []
    },
    {
      "cell_type": "code",
      "source": [
        "!pip install openai -q"
      ],
      "metadata": {
        "id": "InV_zwoJZvUK"
      },
      "execution_count": null,
      "outputs": []
    },
    {
      "cell_type": "code",
      "source": [],
      "metadata": {
        "id": "Xlw8jjjNLAq7"
      },
      "execution_count": null,
      "outputs": []
    },
    {
      "cell_type": "code",
      "source": [
        "import pandas as pd\n",
        "from pandasai import PandasAI\n",
        "from pandasai.llm.openai import OpenAI"
      ],
      "metadata": {
        "id": "CflFNuT_g--P"
      },
      "execution_count": null,
      "outputs": []
    },
    {
      "cell_type": "code",
      "source": [
        "df = pd.DataFrame({\n",
        "    \"country\": [\"United States\", \"United Kingdom\", \"France\", \"Germany\", \"Italy\", \"Spain\", \"Canada\", \"Australia\", \"Japan\", \"China\"],\n",
        "    \"gdp\": [21400000, 2940000, 2830000, 3870000, 2160000, 1350000, 1780000, 1320000, 516000, 14000000],\n",
        "    \"happiness_index\": [7.3, 7.2, 6.5, 7.0, 6.0, 6.3, 7.3, 7.3, 5.9, 5.0]\n",
        "})\n",
        "\n",
        "\n",
        "llm = OpenAI(api_token=\"sk-XXX\")\n",
        "pandas_ai = PandasAI(llm, verbose = True, conversational = False)\n",
        "response = pandas_ai.run(df, \"Calculate the sum of the gdp of north american countries\")\n",
        "print(response)"
      ],
      "metadata": {
        "colab": {
          "base_uri": "https://localhost:8080/"
        },
        "id": "xidOm0KOWI3E",
        "outputId": "eca1ceef-2401-4631-a66b-e1ca2074f420"
      },
      "execution_count": null,
      "outputs": [
        {
          "output_type": "stream",
          "name": "stdout",
          "text": [
            "Running PandasAI with openai LLM...\n",
            "\n",
            "Code generated:\n",
            "```\n",
            "north_america = ['United States', 'Canada', 'Mexico']\n",
            "sum_gdp = df[df['country'].isin(north_america)]['gdp'].sum()\n",
            "print(sum_gdp)\n",
            "```\n"
          ]
        }
      ]
    },
    {
      "cell_type": "code",
      "source": [
        "response"
      ],
      "metadata": {
        "colab": {
          "base_uri": "https://localhost:8080/"
        },
        "id": "GafR8TDDagaX",
        "outputId": "27305286-cfe7-4240-abad-3b05da40be50"
      },
      "execution_count": null,
      "outputs": [
        {
          "output_type": "execute_result",
          "data": {
            "text/plain": [
              "23180000"
            ]
          },
          "metadata": {},
          "execution_count": 7
        }
      ]
    },
    {
      "cell_type": "markdown",
      "source": [
        "## Human clearance example"
      ],
      "metadata": {
        "id": "RXGlu0zqarqK"
      }
    },
    {
      "cell_type": "code",
      "source": [
        "df_cl = pd.read_csv('/content/CHEMBL3301370.tsv', sep='\\t')"
      ],
      "metadata": {
        "id": "P3T3_Dd4auZo"
      },
      "execution_count": null,
      "outputs": []
    },
    {
      "cell_type": "code",
      "source": [
        "# cleaning because \n",
        "for i in ['AlogP', 'Molecular Weight', '#RO5 Violations']:\n",
        "  df_cl[i] = pd.to_numeric(df_cl[i], errors='coerce').astype(float)\n",
        "  df_cl = df_cl.dropna(subset=[i]).reset_index(drop=True)"
      ],
      "metadata": {
        "id": "T5fSy_XSvZHz"
      },
      "execution_count": null,
      "outputs": []
    },
    {
      "cell_type": "code",
      "source": [
        "df_cl.columns"
      ],
      "metadata": {
        "colab": {
          "base_uri": "https://localhost:8080/"
        },
        "id": "_kfz9aRreJNf",
        "outputId": "7a353895-bdc4-4f08-aedd-52dab9153717"
      },
      "execution_count": null,
      "outputs": [
        {
          "output_type": "execute_result",
          "data": {
            "text/plain": [
              "Index(['Molecule ChEMBL ID', 'Molecule Name', 'Molecule Max Phase',\n",
              "       'Molecular Weight', '#RO5 Violations', 'AlogP', 'Compound Key',\n",
              "       'Smiles', 'Standard Type', 'Standard Relation', 'Standard Value',\n",
              "       'Standard Units', 'pChEMBL Value', 'Data Validity Comment', 'Comment',\n",
              "       'Uo Units', 'Ligand Efficiency BEI', 'Ligand Efficiency LE',\n",
              "       'Ligand Efficiency LLE', 'Ligand Efficiency SEI', 'Potential Duplicate',\n",
              "       'Assay ChEMBL ID', 'Assay Description', 'Assay Type', 'BAO Format ID',\n",
              "       'BAO Label', 'Assay Organism', 'Assay Tissue ChEMBL ID',\n",
              "       'Assay Tissue Name', 'Assay Cell Type', 'Assay Subcellular Fraction',\n",
              "       'Assay Parameters', 'Assay Variant Accession', 'Assay Variant Mutation',\n",
              "       'Target ChEMBL ID', 'Target Name', 'Target Organism', 'Target Type',\n",
              "       'Document ChEMBL ID', 'Source ID', 'Source Description',\n",
              "       'Document Journal', 'Document Year', 'Cell ChEMBL ID', 'Properties'],\n",
              "      dtype='object')"
            ]
          },
          "metadata": {},
          "execution_count": 10
        }
      ]
    },
    {
      "cell_type": "markdown",
      "source": [
        "### Provide molecule names for 5 top compounds that have highest LogP"
      ],
      "metadata": {
        "id": "w9dtnJv-eqWQ"
      }
    },
    {
      "cell_type": "code",
      "source": [
        "response = pandas_ai.run(df_cl, \"Provide names for 5 compounds with the highest LogP\")\n",
        "response"
      ],
      "metadata": {
        "colab": {
          "base_uri": "https://localhost:8080/"
        },
        "id": "R2TTWRN-bXwh",
        "outputId": "1ae8d86a-9950-4609-cd10-7407e2ced8e8"
      },
      "execution_count": null,
      "outputs": [
        {
          "output_type": "execute_result",
          "data": {
            "text/plain": [
              "979                                            FIBOFLAPON\n",
              "734                                           MONTELUKAST\n",
              "1055                                          PF-03715455\n",
              "304     1,1',6,6',7,7'-HEXAHYDROXY-3,3'-DIMETHYL-N5-((...\n",
              "1008                                          TELMISARTAN\n",
              "Name: Molecule Name, dtype: object"
            ]
          },
          "metadata": {},
          "execution_count": 11
        }
      ]
    },
    {
      "cell_type": "code",
      "source": [
        "response = pandas_ai.run(df_cl, \n",
        "                         \"Provide names for 5 compounds with the highest LogP\",\n",
        "                         is_conversational_answer=True)\n",
        "response"
      ],
      "metadata": {
        "colab": {
          "base_uri": "https://localhost:8080/",
          "height": 53
        },
        "id": "zVPXeje521L0",
        "outputId": "dd9ccf4b-3769-4d99-971c-602d6d8245e9"
      },
      "execution_count": null,
      "outputs": [
        {
          "output_type": "execute_result",
          "data": {
            "text/plain": [
              "\"The top 5 compounds with the highest LogP are FIBOFLAPON, MONTELUKAST, PF-03715455, 1,1',6,6',7,7'-HEXAHYDROXY-3,3'-DIMETHYL-N5-(((2S)-3-((1H-tetrazol-5-yl)methyl)-2-(4-(2-methylpropoxy)phenyl)propyl)amino)carbonyl)-L-ornithine, and TELMISARTAN.\""
            ],
            "application/vnd.google.colaboratory.intrinsic+json": {
              "type": "string"
            }
          },
          "metadata": {},
          "execution_count": 12
        }
      ]
    },
    {
      "cell_type": "code",
      "source": [
        "response = pandas_ai.run(df_cl,\n",
        "                         \"Provide IDs for 5 compounds with the highest LogP\")\n",
        "response"
      ],
      "metadata": {
        "colab": {
          "base_uri": "https://localhost:8080/"
        },
        "id": "JWIArItLvOUK",
        "outputId": "2e22c061-b308-4e3f-ae77-21c2e4cb6fa1"
      },
      "execution_count": null,
      "outputs": [
        {
          "output_type": "execute_result",
          "data": {
            "text/plain": [
              "979     CHEMBL1922660\n",
              "734         CHEMBL787\n",
              "1055    CHEMBL1938400\n",
              "304     CHEMBL1094250\n",
              "1008       CHEMBL1017\n",
              "Name: Molecule ChEMBL ID, dtype: object"
            ]
          },
          "metadata": {},
          "execution_count": 13
        }
      ]
    },
    {
      "cell_type": "code",
      "source": [
        "response_man = df_cl.sort_values('AlogP', ascending=False)['Molecule ChEMBL ID'].to_list()[:5]\n",
        "response_man"
      ],
      "metadata": {
        "colab": {
          "base_uri": "https://localhost:8080/"
        },
        "id": "0ZyDFHDVewkR",
        "outputId": "2af4e15b-7cc6-4391-ec3f-a2f327b032dc"
      },
      "execution_count": null,
      "outputs": [
        {
          "output_type": "execute_result",
          "data": {
            "text/plain": [
              "['CHEMBL1922660', 'CHEMBL787', 'CHEMBL1938400', 'CHEMBL1094250', 'CHEMBL1017']"
            ]
          },
          "metadata": {},
          "execution_count": 14
        }
      ]
    },
    {
      "cell_type": "markdown",
      "source": [
        "### Provide ID for compounds that does not violate Lipinski rule and have highest LogP"
      ],
      "metadata": {
        "id": "fuHMK5p9eFzn"
      }
    },
    {
      "cell_type": "code",
      "source": [
        "response = pandas_ai.run(df_cl, \"Provide IDs for 5 compounds with the highest LogP that does not violate Lipinski rule\")\n",
        "response"
      ],
      "metadata": {
        "colab": {
          "base_uri": "https://localhost:8080/"
        },
        "id": "__p8S21ka7fI",
        "outputId": "c919f67b-c9bc-44dc-bb63-66cb3e2f24ff"
      },
      "execution_count": null,
      "outputs": [
        {
          "output_type": "execute_result",
          "data": {
            "text/plain": [
              "257     CHEMBL2314383\n",
              "1029    CHEMBL1917426\n",
              "255      CHEMBL359806\n",
              "917     CHEMBL1934415\n",
              "69      CHEMBL1917422\n",
              "Name: Molecule ChEMBL ID, dtype: object"
            ]
          },
          "metadata": {},
          "execution_count": 15
        }
      ]
    },
    {
      "cell_type": "code",
      "source": [
        "response_man = df_cl[df_cl['#RO5 Violations'] == 0].sort_values('AlogP', ascending=False)['Molecule ChEMBL ID'].to_list()[:5]\n",
        "response_man"
      ],
      "metadata": {
        "colab": {
          "base_uri": "https://localhost:8080/"
        },
        "id": "1vyN_y9Ec7Vv",
        "outputId": "74543114-76ca-417d-93d6-cb196c470515"
      },
      "execution_count": null,
      "outputs": [
        {
          "output_type": "execute_result",
          "data": {
            "text/plain": [
              "['CHEMBL2314383',\n",
              " 'CHEMBL1917426',\n",
              " 'CHEMBL359806',\n",
              " 'CHEMBL1934415',\n",
              " 'CHEMBL1917422']"
            ]
          },
          "metadata": {},
          "execution_count": 16
        }
      ]
    },
    {
      "cell_type": "markdown",
      "source": [
        "### Provide ID for 5 top compounds that have highest LogP and lowest MW"
      ],
      "metadata": {
        "id": "eSdWL9X9fZvq"
      }
    },
    {
      "cell_type": "code",
      "source": [
        "pandas_ai.run(df_cl, \n",
        "              \"Provide IDs for 5 compounds with the highest LogP that does not violate Lipinski rule and MW < 300\", \n",
        "              is_conversational_answer=True)"
      ],
      "metadata": {
        "colab": {
          "base_uri": "https://localhost:8080/",
          "height": 53
        },
        "id": "XZ_yydFUgrqU",
        "outputId": "79f159aa-ba09-4c5f-d766-7c57ddc821f0"
      },
      "execution_count": null,
      "outputs": [
        {
          "output_type": "execute_result",
          "data": {
            "text/plain": [
              "\"The top 5 compounds with the highest LogP that don't break Lipinski's rule and have a molecular weight less than 300 are: CHEMBL1596896, CHEMBL669, CHEMBL550438, CHEMBL1644331, and CHEMBL139.\""
            ],
            "application/vnd.google.colaboratory.intrinsic+json": {
              "type": "string"
            }
          },
          "metadata": {},
          "execution_count": 17
        }
      ]
    },
    {
      "cell_type": "code",
      "source": [
        "pandas_ai.run(df_cl, \n",
        "              \"Provide IDs for 5 compounds with the highest LogP that does not violate Lipinski rule and MW < 300\", \n",
        "              is_conversational_answer=False)"
      ],
      "metadata": {
        "colab": {
          "base_uri": "https://localhost:8080/"
        },
        "id": "favM-iad2oeP",
        "outputId": "0173cbc5-c132-4480-f668-8ec6e47e803c"
      },
      "execution_count": null,
      "outputs": [
        {
          "output_type": "execute_result",
          "data": {
            "text/plain": [
              "287     CHEMBL1596896\n",
              "34          CHEMBL669\n",
              "965      CHEMBL550438\n",
              "851     CHEMBL1644331\n",
              "1082        CHEMBL139\n",
              "Name: Molecule ChEMBL ID, dtype: object"
            ]
          },
          "metadata": {},
          "execution_count": 18
        }
      ]
    },
    {
      "cell_type": "markdown",
      "source": [
        "### Provide ID for 5 top compounds that have highest LogP for human assay only"
      ],
      "metadata": {
        "id": "0nw7XNane55K"
      }
    },
    {
      "cell_type": "code",
      "source": [
        "df_cl['Assay Organism'].value_counts()"
      ],
      "metadata": {
        "colab": {
          "base_uri": "https://localhost:8080/"
        },
        "id": "vLLLnPL-e_Rs",
        "outputId": "622e3183-cc91-4f98-f8ca-883a6d80c6c1"
      },
      "execution_count": null,
      "outputs": [
        {
          "output_type": "execute_result",
          "data": {
            "text/plain": [
              "Homo sapiens    1097\n",
              "Name: Assay Organism, dtype: int64"
            ]
          },
          "metadata": {},
          "execution_count": 19
        }
      ]
    },
    {
      "cell_type": "code",
      "source": [
        "response = pandas_ai.run(df_cl, \"Provide IDs for compounds that does not violate Lipinski rule and have top 5 largest LogP but activity was measured for human only\")\n",
        "response"
      ],
      "metadata": {
        "colab": {
          "base_uri": "https://localhost:8080/",
          "height": 35
        },
        "id": "B9GevY-Wfc3f",
        "outputId": "bbd861bd-ddbb-41ca-d7fe-2d130bb0e49e"
      },
      "execution_count": null,
      "outputs": [
        {
          "output_type": "execute_result",
          "data": {
            "text/plain": [
              "''"
            ],
            "application/vnd.google.colaboratory.intrinsic+json": {
              "type": "string"
            }
          },
          "metadata": {},
          "execution_count": 20
        }
      ]
    },
    {
      "cell_type": "code",
      "source": [
        "response = pandas_ai.run(df_cl, \"Provide IDs for compounds that does not violate Lipinski rule and have top 5 largest LogP for Homo sapiens organism only\")\n",
        "response"
      ],
      "metadata": {
        "colab": {
          "base_uri": "https://localhost:8080/",
          "height": 35
        },
        "id": "Nfyzsi01fu0R",
        "outputId": "f8f65633-bf9b-4246-d2a0-4d6eb03d11a4"
      },
      "execution_count": null,
      "outputs": [
        {
          "output_type": "execute_result",
          "data": {
            "text/plain": [
              "''"
            ],
            "application/vnd.google.colaboratory.intrinsic+json": {
              "type": "string"
            }
          },
          "metadata": {},
          "execution_count": 21
        }
      ]
    },
    {
      "cell_type": "code",
      "source": [
        "response = pandas_ai.run(df_cl, \"Provide IDs for compounds that does not violate Lipinski rule and have top 5 largest LogP where assay organism is Homo sapiens\")\n",
        "response"
      ],
      "metadata": {
        "colab": {
          "base_uri": "https://localhost:8080/"
        },
        "id": "kq8Je22FzJ0n",
        "outputId": "64db348e-4f59-4a50-92f3-2d3a95aa9345"
      },
      "execution_count": 24,
      "outputs": [
        {
          "output_type": "execute_result",
          "data": {
            "text/plain": [
              "Series([], Name: Molecule ChEMBL ID, dtype: object)"
            ]
          },
          "metadata": {},
          "execution_count": 24
        }
      ]
    },
    {
      "cell_type": "code",
      "source": [
        "response = pandas_ai.run(df_cl, \"Provide IDs for compounds where assay organism is human and LogP is between 2 and 7\")\n",
        "response"
      ],
      "metadata": {
        "id": "VyFADzXTzRFB",
        "colab": {
          "base_uri": "https://localhost:8080/"
        },
        "outputId": "6864d81a-cc45-4e9c-a76b-1b40707155b8"
      },
      "execution_count": 26,
      "outputs": [
        {
          "output_type": "execute_result",
          "data": {
            "text/plain": [
              "Series([], Name: Molecule ChEMBL ID, dtype: object)"
            ]
          },
          "metadata": {},
          "execution_count": 26
        }
      ]
    }
  ]
}