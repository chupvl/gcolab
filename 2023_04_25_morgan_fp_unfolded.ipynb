{
  "nbformat": 4,
  "nbformat_minor": 0,
  "metadata": {
    "colab": {
      "provenance": [],
      "machine_shape": "hm",
      "authorship_tag": "ABX9TyNa41TaXybGZizCMxrQi8K9",
      "include_colab_link": true
    },
    "kernelspec": {
      "name": "python3",
      "display_name": "Python 3"
    },
    "language_info": {
      "name": "python"
    },
    "gpuClass": "standard"
  },
  "cells": [
    {
      "cell_type": "markdown",
      "metadata": {
        "id": "view-in-github",
        "colab_type": "text"
      },
      "source": [
        "<a href=\"https://colab.research.google.com/github/chupvl/gcolab/blob/main/2023_04_25_morgan_fp_unfolded.ipynb\" target=\"_parent\"><img src=\"https://colab.research.google.com/assets/colab-badge.svg\" alt=\"Open In Colab\"/></a>"
      ]
    },
    {
      "cell_type": "markdown",
      "source": [
        "# How many actual bits in unfolded Morgan fingerprint?"
      ],
      "metadata": {
        "id": "w5g1yFPGXkf5"
      }
    },
    {
      "cell_type": "markdown",
      "source": [
        "*Vladimir Chupakhin, 2023-04-27*\n",
        "\n",
        "The easiest possible descriptors used in ML for chemistry are fragments, and they are usually used in a folded form. The default folded size is 1024, with some recommendations to use higher dimensionality (>=4096) for computational chemogenomics tasks.\n",
        "\n",
        "Folding of descriptors is done for several reasons: to save space, get a uniform length, with a price of bit collision, and sometimes insensitivity to small changes.\n",
        "\n",
        "Let's check how many actual bits are in drugs as an example of FDA-approved chemical space vs random selection of 300K compounds from Enamine REAL virtual space of 3B compounds commonly used in virtual screening."
      ],
      "metadata": {
        "id": "mQfMv5tLYQq2"
      }
    },
    {
      "cell_type": "markdown",
      "source": [
        "## Libs"
      ],
      "metadata": {
        "id": "6aFEJtPIXzg9"
      }
    },
    {
      "cell_type": "code",
      "source": [
        "!pip install rdkit -q"
      ],
      "metadata": {
        "id": "AoXJbN2PX72A"
      },
      "execution_count": 15,
      "outputs": []
    },
    {
      "cell_type": "code",
      "source": [
        "import rdkit\n",
        "from rdkit import Chem\n",
        "from rdkit.Chem import rdFingerprintGenerator\n",
        "from rdkit import DataStructs\n",
        "from rdkit.Chem.Draw import IPythonConsole\n",
        "print(rdkit.__version__)\n",
        "%pylab inline\n",
        "\n",
        "import itertools\n",
        "import pandas as pd"
      ],
      "metadata": {
        "colab": {
          "base_uri": "https://localhost:8080/"
        },
        "id": "W6aapUC-X1gu",
        "outputId": "5398957b-651b-4200-f321-2f1a8d297443"
      },
      "execution_count": 16,
      "outputs": [
        {
          "output_type": "stream",
          "name": "stdout",
          "text": [
            "2022.09.5\n",
            "Populating the interactive namespace from numpy and matplotlib\n"
          ]
        }
      ]
    },
    {
      "cell_type": "code",
      "source": [
        "def getUniqueBitsForMList(lst_mol, radius):\n",
        "    \"\"\"\n",
        "    Input: a list of RDKit molecule objects and a radius\n",
        "    Output: a set of unique bits generated using the Morgan fingerprint generator.\n",
        "\n",
        "    Parameters:\n",
        "    lst_mol (list): A list of RDKit molecule objects\n",
        "    radius (int): The radius to use for the Morgan fingerprint generator\n",
        "\n",
        "    Returns:\n",
        "    set: A set of unique bits generated using the Morgan fingerprint generator\n",
        "\n",
        "    \"\"\"\n",
        "    try:\n",
        "      mfpgen = rdFingerprintGenerator.GetMorganGenerator(radius=radius)\n",
        "      unique_bits_list = [list(mfpgen.GetSparseFingerprint(m).GetOnBits()) for m in lst_mol]\n",
        "      # unique_bits_set = set([item for sublist in unique_bits_list for item in sublist])\n",
        "      unique_bits_set = set(itertools.chain(*unique_bits_list))\n",
        "      return unique_bits_set\n",
        "    except:\n",
        "      return set()"
      ],
      "metadata": {
        "id": "wu8IoodlbezB"
      },
      "execution_count": 17,
      "outputs": []
    },
    {
      "cell_type": "markdown",
      "source": [
        "## Checking for ChEMBL drugs"
      ],
      "metadata": {
        "id": "TE2YUBCqYBuw"
      }
    },
    {
      "cell_type": "code",
      "source": [
        "from google.colab import drive\n",
        "drive.mount('/content/gdrive')"
      ],
      "metadata": {
        "colab": {
          "base_uri": "https://localhost:8080/"
        },
        "id": "KudMAo1zZDWk",
        "outputId": "a66c6389-9085-4c85-acbc-46a8875fa15d"
      },
      "execution_count": 18,
      "outputs": [
        {
          "output_type": "stream",
          "name": "stdout",
          "text": [
            "Drive already mounted at /content/gdrive; to attempt to forcibly remount, call drive.mount(\"/content/gdrive\", force_remount=True).\n"
          ]
        }
      ]
    },
    {
      "cell_type": "code",
      "source": [
        "df_drugs = pd.read_csv('/content/gdrive/MyDrive/gcollab/data/chembl/chembl_drugs_lite_20230221.csv')\n",
        "lst_drugs = list(set(df_drugs['canonical_smiles_std'].to_list()))\n",
        "mols_drugs = [ Chem.MolFromSmiles(s) for s in lst_drugs ]\n",
        "len(lst_drugs)"
      ],
      "metadata": {
        "colab": {
          "base_uri": "https://localhost:8080/"
        },
        "id": "jVvrbatIf8G_",
        "outputId": "b5ffab91-5ef8-4529-d0ff-af6f0204d102"
      },
      "execution_count": 19,
      "outputs": [
        {
          "output_type": "execute_result",
          "data": {
            "text/plain": [
              "4875"
            ]
          },
          "metadata": {},
          "execution_count": 19
        }
      ]
    },
    {
      "cell_type": "code",
      "source": [
        "nUB_drugs = {}\n",
        "for r in [2, 3, 4]:\n",
        "  UB = getUniqueBitsForMList(mols_drugs, r)\n",
        "  nUB_drugs[r] = len(UB)\n",
        "  print(f'{len(UB)} unique bits for {len(mols_drugs)} drugs for radius {r} of Morgan fingerprint')"
      ],
      "metadata": {
        "colab": {
          "base_uri": "https://localhost:8080/"
        },
        "id": "x1POTLznggfX",
        "outputId": "3d10a574-0787-49c4-b42c-8de0e9f1497e"
      },
      "execution_count": 20,
      "outputs": [
        {
          "output_type": "stream",
          "name": "stdout",
          "text": [
            "29201 unique bits for 4875 drugs for radius 2 of Morgan fingerprint\n",
            "75912 unique bits for 4875 drugs for radius 3 of Morgan fingerprint\n",
            "117811 unique bits for 4875 drugs for radius 4 of Morgan fingerprint\n"
          ]
        }
      ]
    },
    {
      "cell_type": "markdown",
      "source": [
        "## Checking for 300K random compounds from Enamine lead-like"
      ],
      "metadata": {
        "id": "7bwgWPOxhRZT"
      }
    },
    {
      "cell_type": "code",
      "source": [
        "df_ell = pd.read_csv('/content/gdrive/MyDrive/gcollab/data/enamine_real/Enamine_random.txt.gz', header=None, compression='gzip', sep='\\t')\n",
        "df_ell.columns = ['smiles', 'id', 'sm']\n",
        "df_ell = df_ell[['smiles', 'id']]\n",
        "df_ell.head()"
      ],
      "metadata": {
        "id": "-thWc2n0h81C",
        "colab": {
          "base_uri": "https://localhost:8080/",
          "height": 206
        },
        "outputId": "b97e061d-14c5-40ef-e321-3a8a8167f438"
      },
      "execution_count": 21,
      "outputs": [
        {
          "output_type": "execute_result",
          "data": {
            "text/plain": [
              "                    smiles           id\n",
              "0          CNC1=NC=CC=C1Br  Z1650167172\n",
              "1      CSCCN1CCC(N(C)C)CC1   Z644156236\n",
              "2   COC(C)(C)CN(C)C(=O)CSC  Z1412073910\n",
              "3     CCC(C)OCC(=O)NC(C)CO  Z1497619376\n",
              "4  CC(CO)CSC(C)C(=O)NC1CC1  Z1268437678"
            ],
            "text/html": [
              "\n",
              "  <div id=\"df-3078f69c-34e7-4537-900a-be0490b8cd97\">\n",
              "    <div class=\"colab-df-container\">\n",
              "      <div>\n",
              "<style scoped>\n",
              "    .dataframe tbody tr th:only-of-type {\n",
              "        vertical-align: middle;\n",
              "    }\n",
              "\n",
              "    .dataframe tbody tr th {\n",
              "        vertical-align: top;\n",
              "    }\n",
              "\n",
              "    .dataframe thead th {\n",
              "        text-align: right;\n",
              "    }\n",
              "</style>\n",
              "<table border=\"1\" class=\"dataframe\">\n",
              "  <thead>\n",
              "    <tr style=\"text-align: right;\">\n",
              "      <th></th>\n",
              "      <th>smiles</th>\n",
              "      <th>id</th>\n",
              "    </tr>\n",
              "  </thead>\n",
              "  <tbody>\n",
              "    <tr>\n",
              "      <th>0</th>\n",
              "      <td>CNC1=NC=CC=C1Br</td>\n",
              "      <td>Z1650167172</td>\n",
              "    </tr>\n",
              "    <tr>\n",
              "      <th>1</th>\n",
              "      <td>CSCCN1CCC(N(C)C)CC1</td>\n",
              "      <td>Z644156236</td>\n",
              "    </tr>\n",
              "    <tr>\n",
              "      <th>2</th>\n",
              "      <td>COC(C)(C)CN(C)C(=O)CSC</td>\n",
              "      <td>Z1412073910</td>\n",
              "    </tr>\n",
              "    <tr>\n",
              "      <th>3</th>\n",
              "      <td>CCC(C)OCC(=O)NC(C)CO</td>\n",
              "      <td>Z1497619376</td>\n",
              "    </tr>\n",
              "    <tr>\n",
              "      <th>4</th>\n",
              "      <td>CC(CO)CSC(C)C(=O)NC1CC1</td>\n",
              "      <td>Z1268437678</td>\n",
              "    </tr>\n",
              "  </tbody>\n",
              "</table>\n",
              "</div>\n",
              "      <button class=\"colab-df-convert\" onclick=\"convertToInteractive('df-3078f69c-34e7-4537-900a-be0490b8cd97')\"\n",
              "              title=\"Convert this dataframe to an interactive table.\"\n",
              "              style=\"display:none;\">\n",
              "        \n",
              "  <svg xmlns=\"http://www.w3.org/2000/svg\" height=\"24px\"viewBox=\"0 0 24 24\"\n",
              "       width=\"24px\">\n",
              "    <path d=\"M0 0h24v24H0V0z\" fill=\"none\"/>\n",
              "    <path d=\"M18.56 5.44l.94 2.06.94-2.06 2.06-.94-2.06-.94-.94-2.06-.94 2.06-2.06.94zm-11 1L8.5 8.5l.94-2.06 2.06-.94-2.06-.94L8.5 2.5l-.94 2.06-2.06.94zm10 10l.94 2.06.94-2.06 2.06-.94-2.06-.94-.94-2.06-.94 2.06-2.06.94z\"/><path d=\"M17.41 7.96l-1.37-1.37c-.4-.4-.92-.59-1.43-.59-.52 0-1.04.2-1.43.59L10.3 9.45l-7.72 7.72c-.78.78-.78 2.05 0 2.83L4 21.41c.39.39.9.59 1.41.59.51 0 1.02-.2 1.41-.59l7.78-7.78 2.81-2.81c.8-.78.8-2.07 0-2.86zM5.41 20L4 18.59l7.72-7.72 1.47 1.35L5.41 20z\"/>\n",
              "  </svg>\n",
              "      </button>\n",
              "      \n",
              "  <style>\n",
              "    .colab-df-container {\n",
              "      display:flex;\n",
              "      flex-wrap:wrap;\n",
              "      gap: 12px;\n",
              "    }\n",
              "\n",
              "    .colab-df-convert {\n",
              "      background-color: #E8F0FE;\n",
              "      border: none;\n",
              "      border-radius: 50%;\n",
              "      cursor: pointer;\n",
              "      display: none;\n",
              "      fill: #1967D2;\n",
              "      height: 32px;\n",
              "      padding: 0 0 0 0;\n",
              "      width: 32px;\n",
              "    }\n",
              "\n",
              "    .colab-df-convert:hover {\n",
              "      background-color: #E2EBFA;\n",
              "      box-shadow: 0px 1px 2px rgba(60, 64, 67, 0.3), 0px 1px 3px 1px rgba(60, 64, 67, 0.15);\n",
              "      fill: #174EA6;\n",
              "    }\n",
              "\n",
              "    [theme=dark] .colab-df-convert {\n",
              "      background-color: #3B4455;\n",
              "      fill: #D2E3FC;\n",
              "    }\n",
              "\n",
              "    [theme=dark] .colab-df-convert:hover {\n",
              "      background-color: #434B5C;\n",
              "      box-shadow: 0px 1px 3px 1px rgba(0, 0, 0, 0.15);\n",
              "      filter: drop-shadow(0px 1px 2px rgba(0, 0, 0, 0.3));\n",
              "      fill: #FFFFFF;\n",
              "    }\n",
              "  </style>\n",
              "\n",
              "      <script>\n",
              "        const buttonEl =\n",
              "          document.querySelector('#df-3078f69c-34e7-4537-900a-be0490b8cd97 button.colab-df-convert');\n",
              "        buttonEl.style.display =\n",
              "          google.colab.kernel.accessAllowed ? 'block' : 'none';\n",
              "\n",
              "        async function convertToInteractive(key) {\n",
              "          const element = document.querySelector('#df-3078f69c-34e7-4537-900a-be0490b8cd97');\n",
              "          const dataTable =\n",
              "            await google.colab.kernel.invokeFunction('convertToInteractive',\n",
              "                                                     [key], {});\n",
              "          if (!dataTable) return;\n",
              "\n",
              "          const docLinkHtml = 'Like what you see? Visit the ' +\n",
              "            '<a target=\"_blank\" href=https://colab.research.google.com/notebooks/data_table.ipynb>data table notebook</a>'\n",
              "            + ' to learn more about interactive tables.';\n",
              "          element.innerHTML = '';\n",
              "          dataTable['output_type'] = 'display_data';\n",
              "          await google.colab.output.renderOutput(dataTable, element);\n",
              "          const docLink = document.createElement('div');\n",
              "          docLink.innerHTML = docLinkHtml;\n",
              "          element.appendChild(docLink);\n",
              "        }\n",
              "      </script>\n",
              "    </div>\n",
              "  </div>\n",
              "  "
            ]
          },
          "metadata": {},
          "execution_count": 21
        }
      ]
    },
    {
      "cell_type": "code",
      "source": [
        "df_ell.shape"
      ],
      "metadata": {
        "colab": {
          "base_uri": "https://localhost:8080/"
        },
        "id": "V-6AINkVGsbM",
        "outputId": "7d1e1488-913f-447a-d452-2e379de5f33d"
      },
      "execution_count": 22,
      "outputs": [
        {
          "output_type": "execute_result",
          "data": {
            "text/plain": [
              "(392661, 2)"
            ]
          },
          "metadata": {},
          "execution_count": 22
        }
      ]
    },
    {
      "cell_type": "code",
      "source": [
        "# surprisingly fast enough, but dask would be nice to have\n",
        "df_ell_300k = df_ell.sample(300000)\n",
        "lst_ell_300k = list(set(df_ell_300k['smiles'].to_list()))\n",
        "mols_ell_300k = [ Chem.MolFromSmiles(s) for s in lst_ell_300k ]\n",
        "len(lst_ell_300k)"
      ],
      "metadata": {
        "colab": {
          "base_uri": "https://localhost:8080/"
        },
        "id": "9GMxF2t0HCMx",
        "outputId": "08c343e4-2b48-46cd-cc65-321178d59b8e"
      },
      "execution_count": 23,
      "outputs": [
        {
          "output_type": "execute_result",
          "data": {
            "text/plain": [
              "300000"
            ]
          },
          "metadata": {},
          "execution_count": 23
        }
      ]
    },
    {
      "cell_type": "code",
      "source": [
        "nUB_ell = {}\n",
        "for r in [2, 3, 4]:\n",
        "  UB = getUniqueBitsForMList(mols_ell_300k, r)\n",
        "  nUB_ell[r] = len(UB)\n",
        "  print(f'{len(UB)} unique bits for 300K Enamine Lead-like compounds {r} of Morgan fingerprint')"
      ],
      "metadata": {
        "colab": {
          "base_uri": "https://localhost:8080/"
        },
        "id": "ETajHeeoFLPR",
        "outputId": "0657338e-0dff-4c6f-d7d2-5acb34fe6576"
      },
      "execution_count": 24,
      "outputs": [
        {
          "output_type": "stream",
          "name": "stdout",
          "text": [
            "88962 unique bits for 300K Enamine Lead-like compounds 2 of Morgan fingerprint\n",
            "595505 unique bits for 300K Enamine Lead-like compounds 3 of Morgan fingerprint\n",
            "1898416 unique bits for 300K Enamine Lead-like compounds 4 of Morgan fingerprint\n"
          ]
        }
      ]
    },
    {
      "cell_type": "code",
      "source": [
        "nUB_ell_100K = {}\n",
        "for r in [2, 3, 4]:\n",
        "  UB = getUniqueBitsForMList(mols_ell_300k[:100000], r)\n",
        "  nUB_ell_100K[r] = len(UB)\n",
        "  print(f'{len(UB)} unique bits for 100K Enamine Lead-like compounds {r} of Morgan fingerprint')"
      ],
      "metadata": {
        "colab": {
          "base_uri": "https://localhost:8080/"
        },
        "id": "lzuYZB2iNay-",
        "outputId": "1de3a489-12a2-479e-cdec-d9983ef75ece"
      },
      "execution_count": 25,
      "outputs": [
        {
          "output_type": "stream",
          "name": "stdout",
          "text": [
            "65591 unique bits for 100K Enamine Lead-like compounds 2 of Morgan fingerprint\n",
            "361113 unique bits for 100K Enamine Lead-like compounds 3 of Morgan fingerprint\n",
            "961539 unique bits for 100K Enamine Lead-like compounds 4 of Morgan fingerprint\n"
          ]
        }
      ]
    },
    {
      "cell_type": "markdown",
      "source": [
        "## Stats"
      ],
      "metadata": {
        "id": "4JxEAMnGJLYc"
      }
    },
    {
      "cell_type": "markdown",
      "source": [
        "So, as we can see, on average, for radius 3 there are 16 bits per compound for drug space that's going down 4 and 2 bits for increased chemical space of 100K and 300K diverse compounds from the Enamine REAL library. Enamine virtual space is, of course, repetitive, but it still indicates that with a large chemical space number of unique bits will grow up significantly to more than half of million bits. This raises a good old question about using folded descriptors for ML tasks, especially in a very large chemical space."
      ],
      "metadata": {
        "id": "xBxG3O5OTwOm"
      }
    },
    {
      "cell_type": "code",
      "source": [
        "stats = pd.DataFrame({'Drugs (~5K)': nUB_drugs, \n",
        "                      'Enamine REAL Lead-like (100K)': nUB_ell_100K,\n",
        "                      'Enamine REAL Lead-like (300K)': nUB_ell})\n",
        "stats"
      ],
      "metadata": {
        "colab": {
          "base_uri": "https://localhost:8080/",
          "height": 172
        },
        "id": "BjMN2ZyTJN_I",
        "outputId": "28cb791a-3149-4951-cfa3-bc22e3e78f1a"
      },
      "execution_count": 26,
      "outputs": [
        {
          "output_type": "execute_result",
          "data": {
            "text/plain": [
              "   Drugs (~5K)  Enamine REAL Lead-like (100K)  Enamine REAL Lead-like (300K)\n",
              "2        29201                          65591                          88962\n",
              "3        75912                         361113                         595505\n",
              "4       117811                         961539                        1898416"
            ],
            "text/html": [
              "\n",
              "  <div id=\"df-c8aefab3-04aa-43d0-a549-ac4e6b8ddb72\">\n",
              "    <div class=\"colab-df-container\">\n",
              "      <div>\n",
              "<style scoped>\n",
              "    .dataframe tbody tr th:only-of-type {\n",
              "        vertical-align: middle;\n",
              "    }\n",
              "\n",
              "    .dataframe tbody tr th {\n",
              "        vertical-align: top;\n",
              "    }\n",
              "\n",
              "    .dataframe thead th {\n",
              "        text-align: right;\n",
              "    }\n",
              "</style>\n",
              "<table border=\"1\" class=\"dataframe\">\n",
              "  <thead>\n",
              "    <tr style=\"text-align: right;\">\n",
              "      <th></th>\n",
              "      <th>Drugs (~5K)</th>\n",
              "      <th>Enamine REAL Lead-like (100K)</th>\n",
              "      <th>Enamine REAL Lead-like (300K)</th>\n",
              "    </tr>\n",
              "  </thead>\n",
              "  <tbody>\n",
              "    <tr>\n",
              "      <th>2</th>\n",
              "      <td>29201</td>\n",
              "      <td>65591</td>\n",
              "      <td>88962</td>\n",
              "    </tr>\n",
              "    <tr>\n",
              "      <th>3</th>\n",
              "      <td>75912</td>\n",
              "      <td>361113</td>\n",
              "      <td>595505</td>\n",
              "    </tr>\n",
              "    <tr>\n",
              "      <th>4</th>\n",
              "      <td>117811</td>\n",
              "      <td>961539</td>\n",
              "      <td>1898416</td>\n",
              "    </tr>\n",
              "  </tbody>\n",
              "</table>\n",
              "</div>\n",
              "      <button class=\"colab-df-convert\" onclick=\"convertToInteractive('df-c8aefab3-04aa-43d0-a549-ac4e6b8ddb72')\"\n",
              "              title=\"Convert this dataframe to an interactive table.\"\n",
              "              style=\"display:none;\">\n",
              "        \n",
              "  <svg xmlns=\"http://www.w3.org/2000/svg\" height=\"24px\"viewBox=\"0 0 24 24\"\n",
              "       width=\"24px\">\n",
              "    <path d=\"M0 0h24v24H0V0z\" fill=\"none\"/>\n",
              "    <path d=\"M18.56 5.44l.94 2.06.94-2.06 2.06-.94-2.06-.94-.94-2.06-.94 2.06-2.06.94zm-11 1L8.5 8.5l.94-2.06 2.06-.94-2.06-.94L8.5 2.5l-.94 2.06-2.06.94zm10 10l.94 2.06.94-2.06 2.06-.94-2.06-.94-.94-2.06-.94 2.06-2.06.94z\"/><path d=\"M17.41 7.96l-1.37-1.37c-.4-.4-.92-.59-1.43-.59-.52 0-1.04.2-1.43.59L10.3 9.45l-7.72 7.72c-.78.78-.78 2.05 0 2.83L4 21.41c.39.39.9.59 1.41.59.51 0 1.02-.2 1.41-.59l7.78-7.78 2.81-2.81c.8-.78.8-2.07 0-2.86zM5.41 20L4 18.59l7.72-7.72 1.47 1.35L5.41 20z\"/>\n",
              "  </svg>\n",
              "      </button>\n",
              "      \n",
              "  <style>\n",
              "    .colab-df-container {\n",
              "      display:flex;\n",
              "      flex-wrap:wrap;\n",
              "      gap: 12px;\n",
              "    }\n",
              "\n",
              "    .colab-df-convert {\n",
              "      background-color: #E8F0FE;\n",
              "      border: none;\n",
              "      border-radius: 50%;\n",
              "      cursor: pointer;\n",
              "      display: none;\n",
              "      fill: #1967D2;\n",
              "      height: 32px;\n",
              "      padding: 0 0 0 0;\n",
              "      width: 32px;\n",
              "    }\n",
              "\n",
              "    .colab-df-convert:hover {\n",
              "      background-color: #E2EBFA;\n",
              "      box-shadow: 0px 1px 2px rgba(60, 64, 67, 0.3), 0px 1px 3px 1px rgba(60, 64, 67, 0.15);\n",
              "      fill: #174EA6;\n",
              "    }\n",
              "\n",
              "    [theme=dark] .colab-df-convert {\n",
              "      background-color: #3B4455;\n",
              "      fill: #D2E3FC;\n",
              "    }\n",
              "\n",
              "    [theme=dark] .colab-df-convert:hover {\n",
              "      background-color: #434B5C;\n",
              "      box-shadow: 0px 1px 3px 1px rgba(0, 0, 0, 0.15);\n",
              "      filter: drop-shadow(0px 1px 2px rgba(0, 0, 0, 0.3));\n",
              "      fill: #FFFFFF;\n",
              "    }\n",
              "  </style>\n",
              "\n",
              "      <script>\n",
              "        const buttonEl =\n",
              "          document.querySelector('#df-c8aefab3-04aa-43d0-a549-ac4e6b8ddb72 button.colab-df-convert');\n",
              "        buttonEl.style.display =\n",
              "          google.colab.kernel.accessAllowed ? 'block' : 'none';\n",
              "\n",
              "        async function convertToInteractive(key) {\n",
              "          const element = document.querySelector('#df-c8aefab3-04aa-43d0-a549-ac4e6b8ddb72');\n",
              "          const dataTable =\n",
              "            await google.colab.kernel.invokeFunction('convertToInteractive',\n",
              "                                                     [key], {});\n",
              "          if (!dataTable) return;\n",
              "\n",
              "          const docLinkHtml = 'Like what you see? Visit the ' +\n",
              "            '<a target=\"_blank\" href=https://colab.research.google.com/notebooks/data_table.ipynb>data table notebook</a>'\n",
              "            + ' to learn more about interactive tables.';\n",
              "          element.innerHTML = '';\n",
              "          dataTable['output_type'] = 'display_data';\n",
              "          await google.colab.output.renderOutput(dataTable, element);\n",
              "          const docLink = document.createElement('div');\n",
              "          docLink.innerHTML = docLinkHtml;\n",
              "          element.appendChild(docLink);\n",
              "        }\n",
              "      </script>\n",
              "    </div>\n",
              "  </div>\n",
              "  "
            ]
          },
          "metadata": {},
          "execution_count": 26
        }
      ]
    }
  ]
}